{
 "cells": [
  {
   "cell_type": "markdown",
   "metadata": {},
   "source": [
    "# Capstone\n",
    "\n",
    "This notebook is going to be used for Coursera Capstone project."
   ]
  },
  {
   "cell_type": "code",
   "execution_count": 2,
   "metadata": {},
   "outputs": [],
   "source": [
    "import pandas as pd\n",
    "import numpy as np"
   ]
  },
  {
   "cell_type": "code",
   "execution_count": 3,
   "metadata": {},
   "outputs": [
    {
     "name": "stdout",
     "output_type": "stream",
     "text": [
      "Hello Capstone Project Course!\n"
     ]
    }
   ],
   "source": [
    "print(\"Hello Capstone Project Course!\")"
   ]
  },
  {
   "cell_type": "markdown",
   "metadata": {},
   "source": [
    "To complete capstone, you will be working on a case study which is to predict the severity of an accident. Say you are driving to another city for work or to visit some friends. It is rainy and windy, and on the way, you come across a terrible traffic jam on the other side of the highway. Long lines of cars barely moving. As you keep driving, police car start appearing from afar shutting down the highway. Oh, it is an accident and there's a helicopter transporting the ones involved in the crash to the nearest hospital. They must be in critical condition for all of this to be happening. Now, wouldn't it be great if there is something in place that could warn you, given the weather and the road conditions about the possibility of you getting into a car accident and how severe it would be, so that you would drive more carefully or even change your travel if you are able to. Well, this is exactly what you will be working on in this course."
   ]
  },
  {
   "cell_type": "code",
   "execution_count": 4,
   "metadata": {},
   "outputs": [
    {
     "name": "stderr",
     "output_type": "stream",
     "text": [
      "/Users/strakh/Development/merapar/jupiterlab/env/lib/python3.8/site-packages/IPython/core/interactiveshell.py:3145: DtypeWarning: Columns (33) have mixed types.Specify dtype option on import or set low_memory=False.\n",
      "  has_raised = await self.run_ast_nodes(code_ast.body, cell_name,\n"
     ]
    }
   ],
   "source": [
    "df = pd.read_csv(\"../Data-Collisions.csv\")"
   ]
  },
  {
   "cell_type": "code",
   "execution_count": 5,
   "metadata": {},
   "outputs": [
    {
     "data": {
      "text/html": [
       "<div>\n",
       "<style scoped>\n",
       "    .dataframe tbody tr th:only-of-type {\n",
       "        vertical-align: middle;\n",
       "    }\n",
       "\n",
       "    .dataframe tbody tr th {\n",
       "        vertical-align: top;\n",
       "    }\n",
       "\n",
       "    .dataframe thead th {\n",
       "        text-align: right;\n",
       "    }\n",
       "</style>\n",
       "<table border=\"1\" class=\"dataframe\">\n",
       "  <thead>\n",
       "    <tr style=\"text-align: right;\">\n",
       "      <th></th>\n",
       "      <th>SEVERITYCODE</th>\n",
       "      <th>X</th>\n",
       "      <th>Y</th>\n",
       "      <th>OBJECTID</th>\n",
       "      <th>INCKEY</th>\n",
       "      <th>COLDETKEY</th>\n",
       "      <th>REPORTNO</th>\n",
       "      <th>STATUS</th>\n",
       "      <th>ADDRTYPE</th>\n",
       "      <th>INTKEY</th>\n",
       "      <th>...</th>\n",
       "      <th>ROADCOND</th>\n",
       "      <th>LIGHTCOND</th>\n",
       "      <th>PEDROWNOTGRNT</th>\n",
       "      <th>SDOTCOLNUM</th>\n",
       "      <th>SPEEDING</th>\n",
       "      <th>ST_COLCODE</th>\n",
       "      <th>ST_COLDESC</th>\n",
       "      <th>SEGLANEKEY</th>\n",
       "      <th>CROSSWALKKEY</th>\n",
       "      <th>HITPARKEDCAR</th>\n",
       "    </tr>\n",
       "  </thead>\n",
       "  <tbody>\n",
       "    <tr>\n",
       "      <th>0</th>\n",
       "      <td>2</td>\n",
       "      <td>-122.323148</td>\n",
       "      <td>47.703140</td>\n",
       "      <td>1</td>\n",
       "      <td>1307</td>\n",
       "      <td>1307</td>\n",
       "      <td>3502005</td>\n",
       "      <td>Matched</td>\n",
       "      <td>Intersection</td>\n",
       "      <td>37475.0</td>\n",
       "      <td>...</td>\n",
       "      <td>Wet</td>\n",
       "      <td>Daylight</td>\n",
       "      <td>NaN</td>\n",
       "      <td>NaN</td>\n",
       "      <td>NaN</td>\n",
       "      <td>10</td>\n",
       "      <td>Entering at angle</td>\n",
       "      <td>0</td>\n",
       "      <td>0</td>\n",
       "      <td>N</td>\n",
       "    </tr>\n",
       "    <tr>\n",
       "      <th>1</th>\n",
       "      <td>1</td>\n",
       "      <td>-122.347294</td>\n",
       "      <td>47.647172</td>\n",
       "      <td>2</td>\n",
       "      <td>52200</td>\n",
       "      <td>52200</td>\n",
       "      <td>2607959</td>\n",
       "      <td>Matched</td>\n",
       "      <td>Block</td>\n",
       "      <td>NaN</td>\n",
       "      <td>...</td>\n",
       "      <td>Wet</td>\n",
       "      <td>Dark - Street Lights On</td>\n",
       "      <td>NaN</td>\n",
       "      <td>6354039.0</td>\n",
       "      <td>NaN</td>\n",
       "      <td>11</td>\n",
       "      <td>From same direction - both going straight - bo...</td>\n",
       "      <td>0</td>\n",
       "      <td>0</td>\n",
       "      <td>N</td>\n",
       "    </tr>\n",
       "    <tr>\n",
       "      <th>2</th>\n",
       "      <td>1</td>\n",
       "      <td>-122.334540</td>\n",
       "      <td>47.607871</td>\n",
       "      <td>3</td>\n",
       "      <td>26700</td>\n",
       "      <td>26700</td>\n",
       "      <td>1482393</td>\n",
       "      <td>Matched</td>\n",
       "      <td>Block</td>\n",
       "      <td>NaN</td>\n",
       "      <td>...</td>\n",
       "      <td>Dry</td>\n",
       "      <td>Daylight</td>\n",
       "      <td>NaN</td>\n",
       "      <td>4323031.0</td>\n",
       "      <td>NaN</td>\n",
       "      <td>32</td>\n",
       "      <td>One parked--one moving</td>\n",
       "      <td>0</td>\n",
       "      <td>0</td>\n",
       "      <td>N</td>\n",
       "    </tr>\n",
       "    <tr>\n",
       "      <th>3</th>\n",
       "      <td>1</td>\n",
       "      <td>-122.334803</td>\n",
       "      <td>47.604803</td>\n",
       "      <td>4</td>\n",
       "      <td>1144</td>\n",
       "      <td>1144</td>\n",
       "      <td>3503937</td>\n",
       "      <td>Matched</td>\n",
       "      <td>Block</td>\n",
       "      <td>NaN</td>\n",
       "      <td>...</td>\n",
       "      <td>Dry</td>\n",
       "      <td>Daylight</td>\n",
       "      <td>NaN</td>\n",
       "      <td>NaN</td>\n",
       "      <td>NaN</td>\n",
       "      <td>23</td>\n",
       "      <td>From same direction - all others</td>\n",
       "      <td>0</td>\n",
       "      <td>0</td>\n",
       "      <td>N</td>\n",
       "    </tr>\n",
       "    <tr>\n",
       "      <th>4</th>\n",
       "      <td>2</td>\n",
       "      <td>-122.306426</td>\n",
       "      <td>47.545739</td>\n",
       "      <td>5</td>\n",
       "      <td>17700</td>\n",
       "      <td>17700</td>\n",
       "      <td>1807429</td>\n",
       "      <td>Matched</td>\n",
       "      <td>Intersection</td>\n",
       "      <td>34387.0</td>\n",
       "      <td>...</td>\n",
       "      <td>Wet</td>\n",
       "      <td>Daylight</td>\n",
       "      <td>NaN</td>\n",
       "      <td>4028032.0</td>\n",
       "      <td>NaN</td>\n",
       "      <td>10</td>\n",
       "      <td>Entering at angle</td>\n",
       "      <td>0</td>\n",
       "      <td>0</td>\n",
       "      <td>N</td>\n",
       "    </tr>\n",
       "  </tbody>\n",
       "</table>\n",
       "<p>5 rows × 38 columns</p>\n",
       "</div>"
      ],
      "text/plain": [
       "   SEVERITYCODE           X          Y  OBJECTID  INCKEY  COLDETKEY REPORTNO  \\\n",
       "0             2 -122.323148  47.703140         1    1307       1307  3502005   \n",
       "1             1 -122.347294  47.647172         2   52200      52200  2607959   \n",
       "2             1 -122.334540  47.607871         3   26700      26700  1482393   \n",
       "3             1 -122.334803  47.604803         4    1144       1144  3503937   \n",
       "4             2 -122.306426  47.545739         5   17700      17700  1807429   \n",
       "\n",
       "    STATUS      ADDRTYPE   INTKEY  ... ROADCOND                LIGHTCOND  \\\n",
       "0  Matched  Intersection  37475.0  ...      Wet                 Daylight   \n",
       "1  Matched         Block      NaN  ...      Wet  Dark - Street Lights On   \n",
       "2  Matched         Block      NaN  ...      Dry                 Daylight   \n",
       "3  Matched         Block      NaN  ...      Dry                 Daylight   \n",
       "4  Matched  Intersection  34387.0  ...      Wet                 Daylight   \n",
       "\n",
       "  PEDROWNOTGRNT  SDOTCOLNUM SPEEDING ST_COLCODE  \\\n",
       "0           NaN         NaN      NaN         10   \n",
       "1           NaN   6354039.0      NaN         11   \n",
       "2           NaN   4323031.0      NaN         32   \n",
       "3           NaN         NaN      NaN         23   \n",
       "4           NaN   4028032.0      NaN         10   \n",
       "\n",
       "                                          ST_COLDESC  SEGLANEKEY  \\\n",
       "0                                  Entering at angle           0   \n",
       "1  From same direction - both going straight - bo...           0   \n",
       "2                             One parked--one moving           0   \n",
       "3                   From same direction - all others           0   \n",
       "4                                  Entering at angle           0   \n",
       "\n",
       "   CROSSWALKKEY  HITPARKEDCAR  \n",
       "0             0             N  \n",
       "1             0             N  \n",
       "2             0             N  \n",
       "3             0             N  \n",
       "4             0             N  \n",
       "\n",
       "[5 rows x 38 columns]"
      ]
     },
     "execution_count": 5,
     "metadata": {},
     "output_type": "execute_result"
    }
   ],
   "source": [
    "df.head()"
   ]
  },
  {
   "cell_type": "code",
   "execution_count": 6,
   "metadata": {},
   "outputs": [
    {
     "data": {
      "text/plain": [
       "Index(['SEVERITYCODE', 'X', 'Y', 'OBJECTID', 'INCKEY', 'COLDETKEY', 'REPORTNO',\n",
       "       'STATUS', 'ADDRTYPE', 'INTKEY', 'LOCATION', 'EXCEPTRSNCODE',\n",
       "       'EXCEPTRSNDESC', 'SEVERITYCODE.1', 'SEVERITYDESC', 'COLLISIONTYPE',\n",
       "       'PERSONCOUNT', 'PEDCOUNT', 'PEDCYLCOUNT', 'VEHCOUNT', 'INCDATE',\n",
       "       'INCDTTM', 'JUNCTIONTYPE', 'SDOT_COLCODE', 'SDOT_COLDESC',\n",
       "       'INATTENTIONIND', 'UNDERINFL', 'WEATHER', 'ROADCOND', 'LIGHTCOND',\n",
       "       'PEDROWNOTGRNT', 'SDOTCOLNUM', 'SPEEDING', 'ST_COLCODE', 'ST_COLDESC',\n",
       "       'SEGLANEKEY', 'CROSSWALKKEY', 'HITPARKEDCAR'],\n",
       "      dtype='object')"
      ]
     },
     "execution_count": 6,
     "metadata": {},
     "output_type": "execute_result"
    }
   ],
   "source": [
    "df.columns"
   ]
  },
  {
   "cell_type": "code",
   "execution_count": 7,
   "metadata": {},
   "outputs": [
    {
     "data": {
      "text/plain": [
       "(194673, 38)"
      ]
     },
     "execution_count": 7,
     "metadata": {},
     "output_type": "execute_result"
    }
   ],
   "source": [
    "df.shape"
   ]
  },
  {
   "cell_type": "code",
   "execution_count": 8,
   "metadata": {},
   "outputs": [
    {
     "data": {
      "text/plain": [
       "SEVERITYCODE        int64\n",
       "X                 float64\n",
       "Y                 float64\n",
       "OBJECTID            int64\n",
       "INCKEY              int64\n",
       "COLDETKEY           int64\n",
       "REPORTNO           object\n",
       "STATUS             object\n",
       "ADDRTYPE           object\n",
       "INTKEY            float64\n",
       "LOCATION           object\n",
       "EXCEPTRSNCODE      object\n",
       "EXCEPTRSNDESC      object\n",
       "SEVERITYCODE.1      int64\n",
       "SEVERITYDESC       object\n",
       "COLLISIONTYPE      object\n",
       "PERSONCOUNT         int64\n",
       "PEDCOUNT            int64\n",
       "PEDCYLCOUNT         int64\n",
       "VEHCOUNT            int64\n",
       "INCDATE            object\n",
       "INCDTTM            object\n",
       "JUNCTIONTYPE       object\n",
       "SDOT_COLCODE        int64\n",
       "SDOT_COLDESC       object\n",
       "INATTENTIONIND     object\n",
       "UNDERINFL          object\n",
       "WEATHER            object\n",
       "ROADCOND           object\n",
       "LIGHTCOND          object\n",
       "PEDROWNOTGRNT      object\n",
       "SDOTCOLNUM        float64\n",
       "SPEEDING           object\n",
       "ST_COLCODE         object\n",
       "ST_COLDESC         object\n",
       "SEGLANEKEY          int64\n",
       "CROSSWALKKEY        int64\n",
       "HITPARKEDCAR       object\n",
       "dtype: object"
      ]
     },
     "execution_count": 8,
     "metadata": {},
     "output_type": "execute_result"
    }
   ],
   "source": [
    "df.dtypes\n"
   ]
  },
  {
   "cell_type": "code",
   "execution_count": 9,
   "metadata": {},
   "outputs": [],
   "source": [
    "features = ['SEVERITYCODE', 'STATUS', 'ADDRTYPE', 'COLLISIONTYPE', 'PERSONCOUNT', 'PEDCOUNT', 'PEDCYLCOUNT', 'VEHCOUNT', 'JUNCTIONTYPE', 'INATTENTIONIND', 'SPEEDING', 'HITPARKEDCAR', 'WEATHER', 'ROADCOND', 'LIGHTCOND', 'UNDERINFL']"
   ]
  },
  {
   "cell_type": "code",
   "execution_count": 10,
   "metadata": {},
   "outputs": [],
   "source": [
    "X = df[features]"
   ]
  },
  {
   "cell_type": "code",
   "execution_count": 11,
   "metadata": {},
   "outputs": [
    {
     "data": {
      "text/plain": [
       "(194673, 16)"
      ]
     },
     "execution_count": 11,
     "metadata": {},
     "output_type": "execute_result"
    }
   ],
   "source": [
    "X.shape"
   ]
  },
  {
   "cell_type": "code",
   "execution_count": 12,
   "metadata": {},
   "outputs": [
    {
     "data": {
      "text/plain": [
       "STATUS   \n",
       "Matched      189786\n",
       "Unmatched      4887\n",
       "dtype: int64"
      ]
     },
     "execution_count": 12,
     "metadata": {},
     "output_type": "execute_result"
    }
   ],
   "source": [
    "X[['STATUS']].value_counts()"
   ]
  },
  {
   "cell_type": "code",
   "execution_count": 13,
   "metadata": {},
   "outputs": [
    {
     "data": {
      "text/plain": [
       "STATUS \n",
       "Matched    189786\n",
       "dtype: int64"
      ]
     },
     "execution_count": 13,
     "metadata": {},
     "output_type": "execute_result"
    }
   ],
   "source": [
    "X = X.loc[X['STATUS'] == 'Matched']\n",
    "X[['STATUS']].value_counts()"
   ]
  },
  {
   "cell_type": "code",
   "execution_count": 14,
   "metadata": {},
   "outputs": [
    {
     "data": {
      "text/plain": [
       "(189786, 16)"
      ]
     },
     "execution_count": 14,
     "metadata": {},
     "output_type": "execute_result"
    }
   ],
   "source": [
    "X.shape"
   ]
  },
  {
   "cell_type": "code",
   "execution_count": 15,
   "metadata": {},
   "outputs": [
    {
     "data": {
      "text/plain": [
       "(189786, 15)"
      ]
     },
     "execution_count": 15,
     "metadata": {},
     "output_type": "execute_result"
    }
   ],
   "source": [
    "X = X.drop('STATUS', axis=1)\n",
    "X.shape"
   ]
  },
  {
   "cell_type": "code",
   "execution_count": 16,
   "metadata": {},
   "outputs": [
    {
     "data": {
      "text/plain": [
       "JUNCTIONTYPE                                     \n",
       "Mid-Block (not related to intersection)              87119\n",
       "At Intersection (intersection related)               61334\n",
       "Mid-Block (but intersection related)                 22388\n",
       "Driveway Junction                                    10538\n",
       "At Intersection (but not related to intersection)     2060\n",
       "Ramp Junction                                          162\n",
       "Unknown                                                  7\n",
       "dtype: int64"
      ]
     },
     "execution_count": 16,
     "metadata": {},
     "output_type": "execute_result"
    }
   ],
   "source": [
    "X[['JUNCTIONTYPE']].value_counts()"
   ]
  },
  {
   "cell_type": "code",
   "execution_count": 17,
   "metadata": {},
   "outputs": [],
   "source": [
    "X = X.loc[X['JUNCTIONTYPE'] != 'Unknown']"
   ]
  },
  {
   "cell_type": "code",
   "execution_count": 18,
   "metadata": {},
   "outputs": [
    {
     "data": {
      "text/plain": [
       "(189779, 15)"
      ]
     },
     "execution_count": 18,
     "metadata": {},
     "output_type": "execute_result"
    }
   ],
   "source": [
    "X.shape"
   ]
  },
  {
   "cell_type": "code",
   "execution_count": 19,
   "metadata": {},
   "outputs": [
    {
     "name": "stdout",
     "output_type": "stream",
     "text": [
      "INATTENTIONIND\n",
      "Y                 29805\n",
      "dtype: int64\n",
      "INATTENTIONIND\n",
      "0                 159974\n",
      "1                  29805\n",
      "dtype: int64\n",
      "SPEEDING\n",
      "Y           9332\n",
      "dtype: int64\n",
      "SPEEDING\n",
      "0           180447\n",
      "1             9332\n",
      "dtype: int64\n"
     ]
    }
   ],
   "source": [
    "for field in 'INATTENTIONIND', 'SPEEDING':\n",
    "    print(X[[field]].value_counts())\n",
    "    X[[field]] = X[[field]].fillna(0).replace('Y', 1)\n",
    "    print(X[[field]].value_counts())"
   ]
  },
  {
   "cell_type": "code",
   "execution_count": 20,
   "metadata": {},
   "outputs": [
    {
     "data": {
      "text/plain": [
       "HITPARKEDCAR\n",
       "0               182862\n",
       "1                 6917\n",
       "dtype: int64"
      ]
     },
     "execution_count": 20,
     "metadata": {},
     "output_type": "execute_result"
    }
   ],
   "source": [
    "X[['HITPARKEDCAR']] = X[['HITPARKEDCAR']].replace(('N','Y'), (0, 1))\n",
    "X[['HITPARKEDCAR']].value_counts()"
   ]
  },
  {
   "cell_type": "code",
   "execution_count": 21,
   "metadata": {},
   "outputs": [
    {
     "name": "stdout",
     "output_type": "stream",
     "text": [
      "WEATHER                 \n",
      "Clear                       111129\n",
      "Raining                      33144\n",
      "Overcast                     27712\n",
      "Unknown                      15090\n",
      "Snowing                        907\n",
      "Other                          832\n",
      "Fog/Smog/Smoke                 569\n",
      "Sleet/Hail/Freezing Rain       113\n",
      "Blowing Sand/Dirt               56\n",
      "Severe Crosswind                25\n",
      "Partly Cloudy                    5\n",
      "dtype: int64\n",
      "WEATHER                 \n",
      "Clear                       111129\n",
      "Raining                      33144\n",
      "Overcast                     27712\n",
      "Snowing                        907\n",
      "Fog/Smog/Smoke                 569\n",
      "Sleet/Hail/Freezing Rain       113\n",
      "Blowing Sand/Dirt               56\n",
      "Severe Crosswind                25\n",
      "Partly Cloudy                    5\n",
      "dtype: int64\n",
      "ROADCOND      \n",
      "Dry               123473\n",
      "Wet                46978\n",
      "Ice                 1116\n",
      "Unknown              929\n",
      "Snow/Slush           904\n",
      "Standing Water       108\n",
      "Other                108\n",
      "Sand/Mud/Dirt         66\n",
      "Oil                   60\n",
      "dtype: int64\n",
      "ROADCOND      \n",
      "Dry               123473\n",
      "Wet                46978\n",
      "Ice                 1116\n",
      "Snow/Slush           904\n",
      "Standing Water       108\n",
      "Sand/Mud/Dirt         66\n",
      "Oil                   60\n",
      "dtype: int64\n",
      "LIGHTCOND               \n",
      "Daylight                    112668\n",
      "Dark - Street Lights On      46811\n",
      "Dusk                          5660\n",
      "Dawn                          2412\n",
      "Unknown                       2312\n",
      "Dark - No Street Lights       1409\n",
      "Dark - Street Lights Off      1120\n",
      "Other                          185\n",
      "Dark - Unknown Lighting          8\n",
      "dtype: int64\n",
      "LIGHTCOND               \n",
      "Daylight                    112668\n",
      "Dark - Street Lights On      46811\n",
      "Dusk                          5660\n",
      "Dawn                          2412\n",
      "Dark - No Street Lights       1409\n",
      "Dark - Street Lights Off      1120\n",
      "Dark - Unknown Lighting          8\n",
      "dtype: int64\n"
     ]
    }
   ],
   "source": [
    "for field in ('WEATHER', 'ROADCOND', 'LIGHTCOND'):\n",
    "    print(X[[field]].value_counts())\n",
    "    X = X.loc[~X[field].isin(('Unknown', 'Other'))]\n",
    "    print(X[[field]].value_counts())"
   ]
  },
  {
   "cell_type": "code",
   "execution_count": 22,
   "metadata": {},
   "outputs": [
    {
     "data": {
      "text/plain": [
       "(170323, 15)"
      ]
     },
     "execution_count": 22,
     "metadata": {},
     "output_type": "execute_result"
    }
   ],
   "source": [
    "X.shape"
   ]
  },
  {
   "cell_type": "code",
   "execution_count": 23,
   "metadata": {},
   "outputs": [
    {
     "data": {
      "text/plain": [
       "LIGHTCOND\n",
       "Daylight     112668\n",
       "Dark          49348\n",
       "Dusk           5660\n",
       "Dawn           2412\n",
       "dtype: int64"
      ]
     },
     "execution_count": 23,
     "metadata": {},
     "output_type": "execute_result"
    }
   ],
   "source": [
    "X[['LIGHTCOND']] = X[['LIGHTCOND']].replace(r\"^Dark.+\", \"Dark\", regex=True)\n",
    "X[['LIGHTCOND']].value_counts()"
   ]
  },
  {
   "cell_type": "code",
   "execution_count": 24,
   "metadata": {},
   "outputs": [
    {
     "data": {
      "text/plain": [
       "UNDERINFL\n",
       "N            89822\n",
       "0            71499\n",
       "Y             5060\n",
       "1             3942\n",
       "dtype: int64"
      ]
     },
     "execution_count": 24,
     "metadata": {},
     "output_type": "execute_result"
    }
   ],
   "source": [
    "X[['UNDERINFL']].value_counts()"
   ]
  },
  {
   "cell_type": "code",
   "execution_count": 25,
   "metadata": {},
   "outputs": [
    {
     "name": "stdout",
     "output_type": "stream",
     "text": [
      "UNDERINFL\n",
      "0            161321\n",
      "1              9002\n",
      "dtype: int64\n"
     ]
    },
    {
     "data": {
      "text/plain": [
       "(161321, 14)"
      ]
     },
     "execution_count": 25,
     "metadata": {},
     "output_type": "execute_result"
    }
   ],
   "source": [
    "X[['UNDERINFL']] = X[['UNDERINFL']].replace(('N', 'Y'), (0,1)).astype('int')\n",
    "print(X[['UNDERINFL']].value_counts())\n",
    "X = X.loc[X['UNDERINFL'] == 0]\n",
    "X.drop('UNDERINFL', axis=1, inplace=True)\n",
    "X.shape"
   ]
  },
  {
   "cell_type": "code",
   "execution_count": 26,
   "metadata": {},
   "outputs": [
    {
     "data": {
      "text/plain": [
       "SEVERITYCODE       int64\n",
       "ADDRTYPE          object\n",
       "COLLISIONTYPE     object\n",
       "PERSONCOUNT        int64\n",
       "PEDCOUNT           int64\n",
       "PEDCYLCOUNT        int64\n",
       "VEHCOUNT           int64\n",
       "JUNCTIONTYPE      object\n",
       "INATTENTIONIND     int64\n",
       "SPEEDING           int64\n",
       "HITPARKEDCAR       int64\n",
       "WEATHER           object\n",
       "ROADCOND          object\n",
       "LIGHTCOND         object\n",
       "dtype: object"
      ]
     },
     "execution_count": 26,
     "metadata": {},
     "output_type": "execute_result"
    }
   ],
   "source": [
    "X.dtypes"
   ]
  },
  {
   "cell_type": "code",
   "execution_count": 27,
   "metadata": {},
   "outputs": [
    {
     "data": {
      "text/html": [
       "<div>\n",
       "<style scoped>\n",
       "    .dataframe tbody tr th:only-of-type {\n",
       "        vertical-align: middle;\n",
       "    }\n",
       "\n",
       "    .dataframe tbody tr th {\n",
       "        vertical-align: top;\n",
       "    }\n",
       "\n",
       "    .dataframe thead th {\n",
       "        text-align: right;\n",
       "    }\n",
       "</style>\n",
       "<table border=\"1\" class=\"dataframe\">\n",
       "  <thead>\n",
       "    <tr style=\"text-align: right;\">\n",
       "      <th></th>\n",
       "      <th>SEVERITYCODE</th>\n",
       "      <th>ADDRTYPE</th>\n",
       "      <th>COLLISIONTYPE</th>\n",
       "      <th>PERSONCOUNT</th>\n",
       "      <th>PEDCOUNT</th>\n",
       "      <th>PEDCYLCOUNT</th>\n",
       "      <th>VEHCOUNT</th>\n",
       "      <th>JUNCTIONTYPE</th>\n",
       "      <th>INATTENTIONIND</th>\n",
       "      <th>SPEEDING</th>\n",
       "      <th>HITPARKEDCAR</th>\n",
       "      <th>WEATHER</th>\n",
       "      <th>ROADCOND</th>\n",
       "      <th>LIGHTCOND</th>\n",
       "    </tr>\n",
       "  </thead>\n",
       "  <tbody>\n",
       "    <tr>\n",
       "      <th>0</th>\n",
       "      <td>2</td>\n",
       "      <td>Intersection</td>\n",
       "      <td>Angles</td>\n",
       "      <td>2</td>\n",
       "      <td>0</td>\n",
       "      <td>0</td>\n",
       "      <td>2</td>\n",
       "      <td>At Intersection (intersection related)</td>\n",
       "      <td>0</td>\n",
       "      <td>0</td>\n",
       "      <td>0</td>\n",
       "      <td>Overcast</td>\n",
       "      <td>Wet</td>\n",
       "      <td>Daylight</td>\n",
       "    </tr>\n",
       "    <tr>\n",
       "      <th>1</th>\n",
       "      <td>1</td>\n",
       "      <td>Block</td>\n",
       "      <td>Sideswipe</td>\n",
       "      <td>2</td>\n",
       "      <td>0</td>\n",
       "      <td>0</td>\n",
       "      <td>2</td>\n",
       "      <td>Mid-Block (not related to intersection)</td>\n",
       "      <td>0</td>\n",
       "      <td>0</td>\n",
       "      <td>0</td>\n",
       "      <td>Raining</td>\n",
       "      <td>Wet</td>\n",
       "      <td>Dark</td>\n",
       "    </tr>\n",
       "    <tr>\n",
       "      <th>2</th>\n",
       "      <td>1</td>\n",
       "      <td>Block</td>\n",
       "      <td>Parked Car</td>\n",
       "      <td>4</td>\n",
       "      <td>0</td>\n",
       "      <td>0</td>\n",
       "      <td>3</td>\n",
       "      <td>Mid-Block (not related to intersection)</td>\n",
       "      <td>0</td>\n",
       "      <td>0</td>\n",
       "      <td>0</td>\n",
       "      <td>Overcast</td>\n",
       "      <td>Dry</td>\n",
       "      <td>Daylight</td>\n",
       "    </tr>\n",
       "    <tr>\n",
       "      <th>3</th>\n",
       "      <td>1</td>\n",
       "      <td>Block</td>\n",
       "      <td>Other</td>\n",
       "      <td>3</td>\n",
       "      <td>0</td>\n",
       "      <td>0</td>\n",
       "      <td>3</td>\n",
       "      <td>Mid-Block (not related to intersection)</td>\n",
       "      <td>0</td>\n",
       "      <td>0</td>\n",
       "      <td>0</td>\n",
       "      <td>Clear</td>\n",
       "      <td>Dry</td>\n",
       "      <td>Daylight</td>\n",
       "    </tr>\n",
       "    <tr>\n",
       "      <th>4</th>\n",
       "      <td>2</td>\n",
       "      <td>Intersection</td>\n",
       "      <td>Angles</td>\n",
       "      <td>2</td>\n",
       "      <td>0</td>\n",
       "      <td>0</td>\n",
       "      <td>2</td>\n",
       "      <td>At Intersection (intersection related)</td>\n",
       "      <td>0</td>\n",
       "      <td>0</td>\n",
       "      <td>0</td>\n",
       "      <td>Raining</td>\n",
       "      <td>Wet</td>\n",
       "      <td>Daylight</td>\n",
       "    </tr>\n",
       "  </tbody>\n",
       "</table>\n",
       "</div>"
      ],
      "text/plain": [
       "   SEVERITYCODE      ADDRTYPE COLLISIONTYPE  PERSONCOUNT  PEDCOUNT  \\\n",
       "0             2  Intersection        Angles            2         0   \n",
       "1             1         Block     Sideswipe            2         0   \n",
       "2             1         Block    Parked Car            4         0   \n",
       "3             1         Block         Other            3         0   \n",
       "4             2  Intersection        Angles            2         0   \n",
       "\n",
       "   PEDCYLCOUNT  VEHCOUNT                             JUNCTIONTYPE  \\\n",
       "0            0         2   At Intersection (intersection related)   \n",
       "1            0         2  Mid-Block (not related to intersection)   \n",
       "2            0         3  Mid-Block (not related to intersection)   \n",
       "3            0         3  Mid-Block (not related to intersection)   \n",
       "4            0         2   At Intersection (intersection related)   \n",
       "\n",
       "   INATTENTIONIND  SPEEDING  HITPARKEDCAR   WEATHER ROADCOND LIGHTCOND  \n",
       "0               0         0             0  Overcast      Wet  Daylight  \n",
       "1               0         0             0   Raining      Wet      Dark  \n",
       "2               0         0             0  Overcast      Dry  Daylight  \n",
       "3               0         0             0     Clear      Dry  Daylight  \n",
       "4               0         0             0   Raining      Wet  Daylight  "
      ]
     },
     "execution_count": 27,
     "metadata": {},
     "output_type": "execute_result"
    }
   ],
   "source": [
    "X.head()"
   ]
  },
  {
   "cell_type": "code",
   "execution_count": 28,
   "metadata": {},
   "outputs": [
    {
     "name": "stdout",
     "output_type": "stream",
     "text": [
      "Index(['SEVERITYCODE', 'COLLISIONTYPE', 'PERSONCOUNT', 'PEDCOUNT',\n",
      "       'PEDCYLCOUNT', 'VEHCOUNT', 'JUNCTIONTYPE', 'INATTENTIONIND', 'SPEEDING',\n",
      "       'HITPARKEDCAR', 'WEATHER', 'ROADCOND', 'LIGHTCOND', 'ADDRTYPE_Alley',\n",
      "       'ADDRTYPE_Block', 'ADDRTYPE_Intersection'],\n",
      "      dtype='object')\n",
      "Index(['SEVERITYCODE', 'PERSONCOUNT', 'PEDCOUNT', 'PEDCYLCOUNT', 'VEHCOUNT',\n",
      "       'JUNCTIONTYPE', 'INATTENTIONIND', 'SPEEDING', 'HITPARKEDCAR', 'WEATHER',\n",
      "       'ROADCOND', 'LIGHTCOND', 'ADDRTYPE_Alley', 'ADDRTYPE_Block',\n",
      "       'ADDRTYPE_Intersection', 'COLLISIONTYPE_Angles', 'COLLISIONTYPE_Cycles',\n",
      "       'COLLISIONTYPE_Head On', 'COLLISIONTYPE_Left Turn',\n",
      "       'COLLISIONTYPE_Other', 'COLLISIONTYPE_Parked Car',\n",
      "       'COLLISIONTYPE_Pedestrian', 'COLLISIONTYPE_Rear Ended',\n",
      "       'COLLISIONTYPE_Right Turn', 'COLLISIONTYPE_Sideswipe'],\n",
      "      dtype='object')\n",
      "Index(['SEVERITYCODE', 'PERSONCOUNT', 'PEDCOUNT', 'PEDCYLCOUNT', 'VEHCOUNT',\n",
      "       'INATTENTIONIND', 'SPEEDING', 'HITPARKEDCAR', 'WEATHER', 'ROADCOND',\n",
      "       'LIGHTCOND', 'ADDRTYPE_Alley', 'ADDRTYPE_Block',\n",
      "       'ADDRTYPE_Intersection', 'COLLISIONTYPE_Angles', 'COLLISIONTYPE_Cycles',\n",
      "       'COLLISIONTYPE_Head On', 'COLLISIONTYPE_Left Turn',\n",
      "       'COLLISIONTYPE_Other', 'COLLISIONTYPE_Parked Car',\n",
      "       'COLLISIONTYPE_Pedestrian', 'COLLISIONTYPE_Rear Ended',\n",
      "       'COLLISIONTYPE_Right Turn', 'COLLISIONTYPE_Sideswipe',\n",
      "       'JUNCTIONTYPE_At Intersection (but not related to intersection)',\n",
      "       'JUNCTIONTYPE_At Intersection (intersection related)',\n",
      "       'JUNCTIONTYPE_Driveway Junction',\n",
      "       'JUNCTIONTYPE_Mid-Block (but intersection related)',\n",
      "       'JUNCTIONTYPE_Mid-Block (not related to intersection)',\n",
      "       'JUNCTIONTYPE_Ramp Junction'],\n",
      "      dtype='object')\n",
      "Index(['SEVERITYCODE', 'PERSONCOUNT', 'PEDCOUNT', 'PEDCYLCOUNT', 'VEHCOUNT',\n",
      "       'INATTENTIONIND', 'SPEEDING', 'HITPARKEDCAR', 'ROADCOND', 'LIGHTCOND',\n",
      "       'ADDRTYPE_Alley', 'ADDRTYPE_Block', 'ADDRTYPE_Intersection',\n",
      "       'COLLISIONTYPE_Angles', 'COLLISIONTYPE_Cycles', 'COLLISIONTYPE_Head On',\n",
      "       'COLLISIONTYPE_Left Turn', 'COLLISIONTYPE_Other',\n",
      "       'COLLISIONTYPE_Parked Car', 'COLLISIONTYPE_Pedestrian',\n",
      "       'COLLISIONTYPE_Rear Ended', 'COLLISIONTYPE_Right Turn',\n",
      "       'COLLISIONTYPE_Sideswipe',\n",
      "       'JUNCTIONTYPE_At Intersection (but not related to intersection)',\n",
      "       'JUNCTIONTYPE_At Intersection (intersection related)',\n",
      "       'JUNCTIONTYPE_Driveway Junction',\n",
      "       'JUNCTIONTYPE_Mid-Block (but intersection related)',\n",
      "       'JUNCTIONTYPE_Mid-Block (not related to intersection)',\n",
      "       'JUNCTIONTYPE_Ramp Junction', 'WEATHER_Blowing Sand/Dirt',\n",
      "       'WEATHER_Clear', 'WEATHER_Fog/Smog/Smoke', 'WEATHER_Overcast',\n",
      "       'WEATHER_Partly Cloudy', 'WEATHER_Raining', 'WEATHER_Severe Crosswind',\n",
      "       'WEATHER_Sleet/Hail/Freezing Rain', 'WEATHER_Snowing'],\n",
      "      dtype='object')\n",
      "Index(['SEVERITYCODE', 'PERSONCOUNT', 'PEDCOUNT', 'PEDCYLCOUNT', 'VEHCOUNT',\n",
      "       'INATTENTIONIND', 'SPEEDING', 'HITPARKEDCAR', 'LIGHTCOND',\n",
      "       'ADDRTYPE_Alley', 'ADDRTYPE_Block', 'ADDRTYPE_Intersection',\n",
      "       'COLLISIONTYPE_Angles', 'COLLISIONTYPE_Cycles', 'COLLISIONTYPE_Head On',\n",
      "       'COLLISIONTYPE_Left Turn', 'COLLISIONTYPE_Other',\n",
      "       'COLLISIONTYPE_Parked Car', 'COLLISIONTYPE_Pedestrian',\n",
      "       'COLLISIONTYPE_Rear Ended', 'COLLISIONTYPE_Right Turn',\n",
      "       'COLLISIONTYPE_Sideswipe',\n",
      "       'JUNCTIONTYPE_At Intersection (but not related to intersection)',\n",
      "       'JUNCTIONTYPE_At Intersection (intersection related)',\n",
      "       'JUNCTIONTYPE_Driveway Junction',\n",
      "       'JUNCTIONTYPE_Mid-Block (but intersection related)',\n",
      "       'JUNCTIONTYPE_Mid-Block (not related to intersection)',\n",
      "       'JUNCTIONTYPE_Ramp Junction', 'WEATHER_Blowing Sand/Dirt',\n",
      "       'WEATHER_Clear', 'WEATHER_Fog/Smog/Smoke', 'WEATHER_Overcast',\n",
      "       'WEATHER_Partly Cloudy', 'WEATHER_Raining', 'WEATHER_Severe Crosswind',\n",
      "       'WEATHER_Sleet/Hail/Freezing Rain', 'WEATHER_Snowing', 'ROADCOND_Dry',\n",
      "       'ROADCOND_Ice', 'ROADCOND_Oil', 'ROADCOND_Sand/Mud/Dirt',\n",
      "       'ROADCOND_Snow/Slush', 'ROADCOND_Standing Water', 'ROADCOND_Wet'],\n",
      "      dtype='object')\n",
      "Index(['SEVERITYCODE', 'PERSONCOUNT', 'PEDCOUNT', 'PEDCYLCOUNT', 'VEHCOUNT',\n",
      "       'INATTENTIONIND', 'SPEEDING', 'HITPARKEDCAR', 'ADDRTYPE_Alley',\n",
      "       'ADDRTYPE_Block', 'ADDRTYPE_Intersection', 'COLLISIONTYPE_Angles',\n",
      "       'COLLISIONTYPE_Cycles', 'COLLISIONTYPE_Head On',\n",
      "       'COLLISIONTYPE_Left Turn', 'COLLISIONTYPE_Other',\n",
      "       'COLLISIONTYPE_Parked Car', 'COLLISIONTYPE_Pedestrian',\n",
      "       'COLLISIONTYPE_Rear Ended', 'COLLISIONTYPE_Right Turn',\n",
      "       'COLLISIONTYPE_Sideswipe',\n",
      "       'JUNCTIONTYPE_At Intersection (but not related to intersection)',\n",
      "       'JUNCTIONTYPE_At Intersection (intersection related)',\n",
      "       'JUNCTIONTYPE_Driveway Junction',\n",
      "       'JUNCTIONTYPE_Mid-Block (but intersection related)',\n",
      "       'JUNCTIONTYPE_Mid-Block (not related to intersection)',\n",
      "       'JUNCTIONTYPE_Ramp Junction', 'WEATHER_Blowing Sand/Dirt',\n",
      "       'WEATHER_Clear', 'WEATHER_Fog/Smog/Smoke', 'WEATHER_Overcast',\n",
      "       'WEATHER_Partly Cloudy', 'WEATHER_Raining', 'WEATHER_Severe Crosswind',\n",
      "       'WEATHER_Sleet/Hail/Freezing Rain', 'WEATHER_Snowing', 'ROADCOND_Dry',\n",
      "       'ROADCOND_Ice', 'ROADCOND_Oil', 'ROADCOND_Sand/Mud/Dirt',\n",
      "       'ROADCOND_Snow/Slush', 'ROADCOND_Standing Water', 'ROADCOND_Wet',\n",
      "       'LIGHTCOND_Dark', 'LIGHTCOND_Dawn', 'LIGHTCOND_Daylight',\n",
      "       'LIGHTCOND_Dusk'],\n",
      "      dtype='object')\n"
     ]
    }
   ],
   "source": [
    "for field in 'ADDRTYPE', 'COLLISIONTYPE', 'JUNCTIONTYPE', 'WEATHER', 'ROADCOND', 'LIGHTCOND':\n",
    "    X = pd.concat([X,pd.get_dummies(X[field], field)], axis=1)\n",
    "    X.drop(field, axis=1, inplace=True)\n",
    "    print(X.columns)"
   ]
  },
  {
   "cell_type": "code",
   "execution_count": 29,
   "metadata": {},
   "outputs": [
    {
     "data": {
      "text/plain": [
       "(161321, 47)"
      ]
     },
     "execution_count": 29,
     "metadata": {},
     "output_type": "execute_result"
    }
   ],
   "source": [
    "X.shape"
   ]
  },
  {
   "cell_type": "code",
   "execution_count": 30,
   "metadata": {},
   "outputs": [
    {
     "data": {
      "text/html": [
       "<div>\n",
       "<style scoped>\n",
       "    .dataframe tbody tr th:only-of-type {\n",
       "        vertical-align: middle;\n",
       "    }\n",
       "\n",
       "    .dataframe tbody tr th {\n",
       "        vertical-align: top;\n",
       "    }\n",
       "\n",
       "    .dataframe thead th {\n",
       "        text-align: right;\n",
       "    }\n",
       "</style>\n",
       "<table border=\"1\" class=\"dataframe\">\n",
       "  <thead>\n",
       "    <tr style=\"text-align: right;\">\n",
       "      <th></th>\n",
       "      <th>SEVERITYCODE</th>\n",
       "      <th>PERSONCOUNT</th>\n",
       "      <th>PEDCOUNT</th>\n",
       "      <th>PEDCYLCOUNT</th>\n",
       "      <th>VEHCOUNT</th>\n",
       "      <th>INATTENTIONIND</th>\n",
       "      <th>SPEEDING</th>\n",
       "      <th>HITPARKEDCAR</th>\n",
       "      <th>ADDRTYPE_Alley</th>\n",
       "      <th>ADDRTYPE_Block</th>\n",
       "      <th>...</th>\n",
       "      <th>ROADCOND_Ice</th>\n",
       "      <th>ROADCOND_Oil</th>\n",
       "      <th>ROADCOND_Sand/Mud/Dirt</th>\n",
       "      <th>ROADCOND_Snow/Slush</th>\n",
       "      <th>ROADCOND_Standing Water</th>\n",
       "      <th>ROADCOND_Wet</th>\n",
       "      <th>LIGHTCOND_Dark</th>\n",
       "      <th>LIGHTCOND_Dawn</th>\n",
       "      <th>LIGHTCOND_Daylight</th>\n",
       "      <th>LIGHTCOND_Dusk</th>\n",
       "    </tr>\n",
       "  </thead>\n",
       "  <tbody>\n",
       "    <tr>\n",
       "      <th>0</th>\n",
       "      <td>2</td>\n",
       "      <td>2</td>\n",
       "      <td>0</td>\n",
       "      <td>0</td>\n",
       "      <td>2</td>\n",
       "      <td>0</td>\n",
       "      <td>0</td>\n",
       "      <td>0</td>\n",
       "      <td>0</td>\n",
       "      <td>0</td>\n",
       "      <td>...</td>\n",
       "      <td>0</td>\n",
       "      <td>0</td>\n",
       "      <td>0</td>\n",
       "      <td>0</td>\n",
       "      <td>0</td>\n",
       "      <td>1</td>\n",
       "      <td>0</td>\n",
       "      <td>0</td>\n",
       "      <td>1</td>\n",
       "      <td>0</td>\n",
       "    </tr>\n",
       "    <tr>\n",
       "      <th>1</th>\n",
       "      <td>1</td>\n",
       "      <td>2</td>\n",
       "      <td>0</td>\n",
       "      <td>0</td>\n",
       "      <td>2</td>\n",
       "      <td>0</td>\n",
       "      <td>0</td>\n",
       "      <td>0</td>\n",
       "      <td>0</td>\n",
       "      <td>1</td>\n",
       "      <td>...</td>\n",
       "      <td>0</td>\n",
       "      <td>0</td>\n",
       "      <td>0</td>\n",
       "      <td>0</td>\n",
       "      <td>0</td>\n",
       "      <td>1</td>\n",
       "      <td>1</td>\n",
       "      <td>0</td>\n",
       "      <td>0</td>\n",
       "      <td>0</td>\n",
       "    </tr>\n",
       "    <tr>\n",
       "      <th>2</th>\n",
       "      <td>1</td>\n",
       "      <td>4</td>\n",
       "      <td>0</td>\n",
       "      <td>0</td>\n",
       "      <td>3</td>\n",
       "      <td>0</td>\n",
       "      <td>0</td>\n",
       "      <td>0</td>\n",
       "      <td>0</td>\n",
       "      <td>1</td>\n",
       "      <td>...</td>\n",
       "      <td>0</td>\n",
       "      <td>0</td>\n",
       "      <td>0</td>\n",
       "      <td>0</td>\n",
       "      <td>0</td>\n",
       "      <td>0</td>\n",
       "      <td>0</td>\n",
       "      <td>0</td>\n",
       "      <td>1</td>\n",
       "      <td>0</td>\n",
       "    </tr>\n",
       "    <tr>\n",
       "      <th>3</th>\n",
       "      <td>1</td>\n",
       "      <td>3</td>\n",
       "      <td>0</td>\n",
       "      <td>0</td>\n",
       "      <td>3</td>\n",
       "      <td>0</td>\n",
       "      <td>0</td>\n",
       "      <td>0</td>\n",
       "      <td>0</td>\n",
       "      <td>1</td>\n",
       "      <td>...</td>\n",
       "      <td>0</td>\n",
       "      <td>0</td>\n",
       "      <td>0</td>\n",
       "      <td>0</td>\n",
       "      <td>0</td>\n",
       "      <td>0</td>\n",
       "      <td>0</td>\n",
       "      <td>0</td>\n",
       "      <td>1</td>\n",
       "      <td>0</td>\n",
       "    </tr>\n",
       "    <tr>\n",
       "      <th>4</th>\n",
       "      <td>2</td>\n",
       "      <td>2</td>\n",
       "      <td>0</td>\n",
       "      <td>0</td>\n",
       "      <td>2</td>\n",
       "      <td>0</td>\n",
       "      <td>0</td>\n",
       "      <td>0</td>\n",
       "      <td>0</td>\n",
       "      <td>0</td>\n",
       "      <td>...</td>\n",
       "      <td>0</td>\n",
       "      <td>0</td>\n",
       "      <td>0</td>\n",
       "      <td>0</td>\n",
       "      <td>0</td>\n",
       "      <td>1</td>\n",
       "      <td>0</td>\n",
       "      <td>0</td>\n",
       "      <td>1</td>\n",
       "      <td>0</td>\n",
       "    </tr>\n",
       "  </tbody>\n",
       "</table>\n",
       "<p>5 rows × 47 columns</p>\n",
       "</div>"
      ],
      "text/plain": [
       "   SEVERITYCODE  PERSONCOUNT  PEDCOUNT  PEDCYLCOUNT  VEHCOUNT  INATTENTIONIND  \\\n",
       "0             2            2         0            0         2               0   \n",
       "1             1            2         0            0         2               0   \n",
       "2             1            4         0            0         3               0   \n",
       "3             1            3         0            0         3               0   \n",
       "4             2            2         0            0         2               0   \n",
       "\n",
       "   SPEEDING  HITPARKEDCAR  ADDRTYPE_Alley  ADDRTYPE_Block  ...  ROADCOND_Ice  \\\n",
       "0         0             0               0               0  ...             0   \n",
       "1         0             0               0               1  ...             0   \n",
       "2         0             0               0               1  ...             0   \n",
       "3         0             0               0               1  ...             0   \n",
       "4         0             0               0               0  ...             0   \n",
       "\n",
       "   ROADCOND_Oil  ROADCOND_Sand/Mud/Dirt  ROADCOND_Snow/Slush  \\\n",
       "0             0                       0                    0   \n",
       "1             0                       0                    0   \n",
       "2             0                       0                    0   \n",
       "3             0                       0                    0   \n",
       "4             0                       0                    0   \n",
       "\n",
       "   ROADCOND_Standing Water  ROADCOND_Wet  LIGHTCOND_Dark  LIGHTCOND_Dawn  \\\n",
       "0                        0             1               0               0   \n",
       "1                        0             1               1               0   \n",
       "2                        0             0               0               0   \n",
       "3                        0             0               0               0   \n",
       "4                        0             1               0               0   \n",
       "\n",
       "   LIGHTCOND_Daylight  LIGHTCOND_Dusk  \n",
       "0                   1               0  \n",
       "1                   0               0  \n",
       "2                   1               0  \n",
       "3                   1               0  \n",
       "4                   1               0  \n",
       "\n",
       "[5 rows x 47 columns]"
      ]
     },
     "execution_count": 30,
     "metadata": {},
     "output_type": "execute_result"
    }
   ],
   "source": [
    "X.head()"
   ]
  },
  {
   "cell_type": "code",
   "execution_count": 31,
   "metadata": {},
   "outputs": [
    {
     "data": {
      "text/html": [
       "<div>\n",
       "<style scoped>\n",
       "    .dataframe tbody tr th:only-of-type {\n",
       "        vertical-align: middle;\n",
       "    }\n",
       "\n",
       "    .dataframe tbody tr th {\n",
       "        vertical-align: top;\n",
       "    }\n",
       "\n",
       "    .dataframe thead th {\n",
       "        text-align: right;\n",
       "    }\n",
       "</style>\n",
       "<table border=\"1\" class=\"dataframe\">\n",
       "  <thead>\n",
       "    <tr style=\"text-align: right;\">\n",
       "      <th></th>\n",
       "      <th>SEVERITYCODE</th>\n",
       "      <th>PERSONCOUNT</th>\n",
       "      <th>PEDCOUNT</th>\n",
       "      <th>PEDCYLCOUNT</th>\n",
       "      <th>VEHCOUNT</th>\n",
       "      <th>INATTENTIONIND</th>\n",
       "      <th>SPEEDING</th>\n",
       "      <th>HITPARKEDCAR</th>\n",
       "      <th>ADDRTYPE_Alley</th>\n",
       "      <th>ADDRTYPE_Block</th>\n",
       "      <th>...</th>\n",
       "      <th>ROADCOND_Ice</th>\n",
       "      <th>ROADCOND_Oil</th>\n",
       "      <th>ROADCOND_Sand/Mud/Dirt</th>\n",
       "      <th>ROADCOND_Snow/Slush</th>\n",
       "      <th>ROADCOND_Standing Water</th>\n",
       "      <th>ROADCOND_Wet</th>\n",
       "      <th>LIGHTCOND_Dark</th>\n",
       "      <th>LIGHTCOND_Dawn</th>\n",
       "      <th>LIGHTCOND_Daylight</th>\n",
       "      <th>LIGHTCOND_Dusk</th>\n",
       "    </tr>\n",
       "  </thead>\n",
       "  <tbody>\n",
       "    <tr>\n",
       "      <th>count</th>\n",
       "      <td>161321.000000</td>\n",
       "      <td>161321.000000</td>\n",
       "      <td>161321.000000</td>\n",
       "      <td>161321.000000</td>\n",
       "      <td>161321.000000</td>\n",
       "      <td>161321.000000</td>\n",
       "      <td>161321.000000</td>\n",
       "      <td>161321.000000</td>\n",
       "      <td>161321.000000</td>\n",
       "      <td>161321.000000</td>\n",
       "      <td>...</td>\n",
       "      <td>161321.000000</td>\n",
       "      <td>161321.000000</td>\n",
       "      <td>161321.000000</td>\n",
       "      <td>161321.000000</td>\n",
       "      <td>161321.000000</td>\n",
       "      <td>161321.000000</td>\n",
       "      <td>161321.000000</td>\n",
       "      <td>161321.000000</td>\n",
       "      <td>161321.000000</td>\n",
       "      <td>161321.000000</td>\n",
       "    </tr>\n",
       "    <tr>\n",
       "      <th>mean</th>\n",
       "      <td>1.323994</td>\n",
       "      <td>2.500177</td>\n",
       "      <td>0.040212</td>\n",
       "      <td>0.032246</td>\n",
       "      <td>1.971510</td>\n",
       "      <td>0.171304</td>\n",
       "      <td>0.048754</td>\n",
       "      <td>0.027579</td>\n",
       "      <td>0.003447</td>\n",
       "      <td>0.625666</td>\n",
       "      <td>...</td>\n",
       "      <td>0.006515</td>\n",
       "      <td>0.000372</td>\n",
       "      <td>0.000372</td>\n",
       "      <td>0.004909</td>\n",
       "      <td>0.000614</td>\n",
       "      <td>0.271254</td>\n",
       "      <td>0.263927</td>\n",
       "      <td>0.014499</td>\n",
       "      <td>0.686724</td>\n",
       "      <td>0.033461</td>\n",
       "    </tr>\n",
       "    <tr>\n",
       "      <th>std</th>\n",
       "      <td>0.467999</td>\n",
       "      <td>1.409160</td>\n",
       "      <td>0.205493</td>\n",
       "      <td>0.178017</td>\n",
       "      <td>0.554869</td>\n",
       "      <td>0.376776</td>\n",
       "      <td>0.215353</td>\n",
       "      <td>0.163762</td>\n",
       "      <td>0.058606</td>\n",
       "      <td>0.483952</td>\n",
       "      <td>...</td>\n",
       "      <td>0.080452</td>\n",
       "      <td>0.019282</td>\n",
       "      <td>0.019282</td>\n",
       "      <td>0.069896</td>\n",
       "      <td>0.024765</td>\n",
       "      <td>0.444608</td>\n",
       "      <td>0.440762</td>\n",
       "      <td>0.119536</td>\n",
       "      <td>0.463827</td>\n",
       "      <td>0.179838</td>\n",
       "    </tr>\n",
       "    <tr>\n",
       "      <th>min</th>\n",
       "      <td>1.000000</td>\n",
       "      <td>0.000000</td>\n",
       "      <td>0.000000</td>\n",
       "      <td>0.000000</td>\n",
       "      <td>0.000000</td>\n",
       "      <td>0.000000</td>\n",
       "      <td>0.000000</td>\n",
       "      <td>0.000000</td>\n",
       "      <td>0.000000</td>\n",
       "      <td>0.000000</td>\n",
       "      <td>...</td>\n",
       "      <td>0.000000</td>\n",
       "      <td>0.000000</td>\n",
       "      <td>0.000000</td>\n",
       "      <td>0.000000</td>\n",
       "      <td>0.000000</td>\n",
       "      <td>0.000000</td>\n",
       "      <td>0.000000</td>\n",
       "      <td>0.000000</td>\n",
       "      <td>0.000000</td>\n",
       "      <td>0.000000</td>\n",
       "    </tr>\n",
       "    <tr>\n",
       "      <th>25%</th>\n",
       "      <td>1.000000</td>\n",
       "      <td>2.000000</td>\n",
       "      <td>0.000000</td>\n",
       "      <td>0.000000</td>\n",
       "      <td>2.000000</td>\n",
       "      <td>0.000000</td>\n",
       "      <td>0.000000</td>\n",
       "      <td>0.000000</td>\n",
       "      <td>0.000000</td>\n",
       "      <td>0.000000</td>\n",
       "      <td>...</td>\n",
       "      <td>0.000000</td>\n",
       "      <td>0.000000</td>\n",
       "      <td>0.000000</td>\n",
       "      <td>0.000000</td>\n",
       "      <td>0.000000</td>\n",
       "      <td>0.000000</td>\n",
       "      <td>0.000000</td>\n",
       "      <td>0.000000</td>\n",
       "      <td>0.000000</td>\n",
       "      <td>0.000000</td>\n",
       "    </tr>\n",
       "    <tr>\n",
       "      <th>50%</th>\n",
       "      <td>1.000000</td>\n",
       "      <td>2.000000</td>\n",
       "      <td>0.000000</td>\n",
       "      <td>0.000000</td>\n",
       "      <td>2.000000</td>\n",
       "      <td>0.000000</td>\n",
       "      <td>0.000000</td>\n",
       "      <td>0.000000</td>\n",
       "      <td>0.000000</td>\n",
       "      <td>1.000000</td>\n",
       "      <td>...</td>\n",
       "      <td>0.000000</td>\n",
       "      <td>0.000000</td>\n",
       "      <td>0.000000</td>\n",
       "      <td>0.000000</td>\n",
       "      <td>0.000000</td>\n",
       "      <td>0.000000</td>\n",
       "      <td>0.000000</td>\n",
       "      <td>0.000000</td>\n",
       "      <td>1.000000</td>\n",
       "      <td>0.000000</td>\n",
       "    </tr>\n",
       "    <tr>\n",
       "      <th>75%</th>\n",
       "      <td>2.000000</td>\n",
       "      <td>3.000000</td>\n",
       "      <td>0.000000</td>\n",
       "      <td>0.000000</td>\n",
       "      <td>2.000000</td>\n",
       "      <td>0.000000</td>\n",
       "      <td>0.000000</td>\n",
       "      <td>0.000000</td>\n",
       "      <td>0.000000</td>\n",
       "      <td>1.000000</td>\n",
       "      <td>...</td>\n",
       "      <td>0.000000</td>\n",
       "      <td>0.000000</td>\n",
       "      <td>0.000000</td>\n",
       "      <td>0.000000</td>\n",
       "      <td>0.000000</td>\n",
       "      <td>1.000000</td>\n",
       "      <td>1.000000</td>\n",
       "      <td>0.000000</td>\n",
       "      <td>1.000000</td>\n",
       "      <td>0.000000</td>\n",
       "    </tr>\n",
       "    <tr>\n",
       "      <th>max</th>\n",
       "      <td>2.000000</td>\n",
       "      <td>81.000000</td>\n",
       "      <td>5.000000</td>\n",
       "      <td>2.000000</td>\n",
       "      <td>12.000000</td>\n",
       "      <td>1.000000</td>\n",
       "      <td>1.000000</td>\n",
       "      <td>1.000000</td>\n",
       "      <td>1.000000</td>\n",
       "      <td>1.000000</td>\n",
       "      <td>...</td>\n",
       "      <td>1.000000</td>\n",
       "      <td>1.000000</td>\n",
       "      <td>1.000000</td>\n",
       "      <td>1.000000</td>\n",
       "      <td>1.000000</td>\n",
       "      <td>1.000000</td>\n",
       "      <td>1.000000</td>\n",
       "      <td>1.000000</td>\n",
       "      <td>1.000000</td>\n",
       "      <td>1.000000</td>\n",
       "    </tr>\n",
       "  </tbody>\n",
       "</table>\n",
       "<p>8 rows × 47 columns</p>\n",
       "</div>"
      ],
      "text/plain": [
       "        SEVERITYCODE    PERSONCOUNT       PEDCOUNT    PEDCYLCOUNT  \\\n",
       "count  161321.000000  161321.000000  161321.000000  161321.000000   \n",
       "mean        1.323994       2.500177       0.040212       0.032246   \n",
       "std         0.467999       1.409160       0.205493       0.178017   \n",
       "min         1.000000       0.000000       0.000000       0.000000   \n",
       "25%         1.000000       2.000000       0.000000       0.000000   \n",
       "50%         1.000000       2.000000       0.000000       0.000000   \n",
       "75%         2.000000       3.000000       0.000000       0.000000   \n",
       "max         2.000000      81.000000       5.000000       2.000000   \n",
       "\n",
       "            VEHCOUNT  INATTENTIONIND       SPEEDING   HITPARKEDCAR  \\\n",
       "count  161321.000000   161321.000000  161321.000000  161321.000000   \n",
       "mean        1.971510        0.171304       0.048754       0.027579   \n",
       "std         0.554869        0.376776       0.215353       0.163762   \n",
       "min         0.000000        0.000000       0.000000       0.000000   \n",
       "25%         2.000000        0.000000       0.000000       0.000000   \n",
       "50%         2.000000        0.000000       0.000000       0.000000   \n",
       "75%         2.000000        0.000000       0.000000       0.000000   \n",
       "max        12.000000        1.000000       1.000000       1.000000   \n",
       "\n",
       "       ADDRTYPE_Alley  ADDRTYPE_Block  ...   ROADCOND_Ice   ROADCOND_Oil  \\\n",
       "count   161321.000000   161321.000000  ...  161321.000000  161321.000000   \n",
       "mean         0.003447        0.625666  ...       0.006515       0.000372   \n",
       "std          0.058606        0.483952  ...       0.080452       0.019282   \n",
       "min          0.000000        0.000000  ...       0.000000       0.000000   \n",
       "25%          0.000000        0.000000  ...       0.000000       0.000000   \n",
       "50%          0.000000        1.000000  ...       0.000000       0.000000   \n",
       "75%          0.000000        1.000000  ...       0.000000       0.000000   \n",
       "max          1.000000        1.000000  ...       1.000000       1.000000   \n",
       "\n",
       "       ROADCOND_Sand/Mud/Dirt  ROADCOND_Snow/Slush  ROADCOND_Standing Water  \\\n",
       "count           161321.000000        161321.000000            161321.000000   \n",
       "mean                 0.000372             0.004909                 0.000614   \n",
       "std                  0.019282             0.069896                 0.024765   \n",
       "min                  0.000000             0.000000                 0.000000   \n",
       "25%                  0.000000             0.000000                 0.000000   \n",
       "50%                  0.000000             0.000000                 0.000000   \n",
       "75%                  0.000000             0.000000                 0.000000   \n",
       "max                  1.000000             1.000000                 1.000000   \n",
       "\n",
       "        ROADCOND_Wet  LIGHTCOND_Dark  LIGHTCOND_Dawn  LIGHTCOND_Daylight  \\\n",
       "count  161321.000000   161321.000000   161321.000000       161321.000000   \n",
       "mean        0.271254        0.263927        0.014499            0.686724   \n",
       "std         0.444608        0.440762        0.119536            0.463827   \n",
       "min         0.000000        0.000000        0.000000            0.000000   \n",
       "25%         0.000000        0.000000        0.000000            0.000000   \n",
       "50%         0.000000        0.000000        0.000000            1.000000   \n",
       "75%         1.000000        1.000000        0.000000            1.000000   \n",
       "max         1.000000        1.000000        1.000000            1.000000   \n",
       "\n",
       "       LIGHTCOND_Dusk  \n",
       "count   161321.000000  \n",
       "mean         0.033461  \n",
       "std          0.179838  \n",
       "min          0.000000  \n",
       "25%          0.000000  \n",
       "50%          0.000000  \n",
       "75%          0.000000  \n",
       "max          1.000000  \n",
       "\n",
       "[8 rows x 47 columns]"
      ]
     },
     "execution_count": 31,
     "metadata": {},
     "output_type": "execute_result"
    }
   ],
   "source": [
    "X.describe()"
   ]
  },
  {
   "cell_type": "code",
   "execution_count": 32,
   "metadata": {},
   "outputs": [
    {
     "data": {
      "text/plain": [
       "SEVERITYCODE                                                      int64\n",
       "PERSONCOUNT                                                       int64\n",
       "PEDCOUNT                                                          int64\n",
       "PEDCYLCOUNT                                                       int64\n",
       "VEHCOUNT                                                          int64\n",
       "INATTENTIONIND                                                    int64\n",
       "SPEEDING                                                          int64\n",
       "HITPARKEDCAR                                                      int64\n",
       "ADDRTYPE_Alley                                                    uint8\n",
       "ADDRTYPE_Block                                                    uint8\n",
       "ADDRTYPE_Intersection                                             uint8\n",
       "COLLISIONTYPE_Angles                                              uint8\n",
       "COLLISIONTYPE_Cycles                                              uint8\n",
       "COLLISIONTYPE_Head On                                             uint8\n",
       "COLLISIONTYPE_Left Turn                                           uint8\n",
       "COLLISIONTYPE_Other                                               uint8\n",
       "COLLISIONTYPE_Parked Car                                          uint8\n",
       "COLLISIONTYPE_Pedestrian                                          uint8\n",
       "COLLISIONTYPE_Rear Ended                                          uint8\n",
       "COLLISIONTYPE_Right Turn                                          uint8\n",
       "COLLISIONTYPE_Sideswipe                                           uint8\n",
       "JUNCTIONTYPE_At Intersection (but not related to intersection)    uint8\n",
       "JUNCTIONTYPE_At Intersection (intersection related)               uint8\n",
       "JUNCTIONTYPE_Driveway Junction                                    uint8\n",
       "JUNCTIONTYPE_Mid-Block (but intersection related)                 uint8\n",
       "JUNCTIONTYPE_Mid-Block (not related to intersection)              uint8\n",
       "JUNCTIONTYPE_Ramp Junction                                        uint8\n",
       "WEATHER_Blowing Sand/Dirt                                         uint8\n",
       "WEATHER_Clear                                                     uint8\n",
       "WEATHER_Fog/Smog/Smoke                                            uint8\n",
       "WEATHER_Overcast                                                  uint8\n",
       "WEATHER_Partly Cloudy                                             uint8\n",
       "WEATHER_Raining                                                   uint8\n",
       "WEATHER_Severe Crosswind                                          uint8\n",
       "WEATHER_Sleet/Hail/Freezing Rain                                  uint8\n",
       "WEATHER_Snowing                                                   uint8\n",
       "ROADCOND_Dry                                                      uint8\n",
       "ROADCOND_Ice                                                      uint8\n",
       "ROADCOND_Oil                                                      uint8\n",
       "ROADCOND_Sand/Mud/Dirt                                            uint8\n",
       "ROADCOND_Snow/Slush                                               uint8\n",
       "ROADCOND_Standing Water                                           uint8\n",
       "ROADCOND_Wet                                                      uint8\n",
       "LIGHTCOND_Dark                                                    uint8\n",
       "LIGHTCOND_Dawn                                                    uint8\n",
       "LIGHTCOND_Daylight                                                uint8\n",
       "LIGHTCOND_Dusk                                                    uint8\n",
       "dtype: object"
      ]
     },
     "execution_count": 32,
     "metadata": {},
     "output_type": "execute_result"
    }
   ],
   "source": [
    "X.dtypes"
   ]
  },
  {
   "cell_type": "code",
   "execution_count": 33,
   "metadata": {},
   "outputs": [
    {
     "data": {
      "text/plain": [
       "SEVERITYCODE\n",
       "1               109054\n",
       "2                52267\n",
       "dtype: int64"
      ]
     },
     "execution_count": 33,
     "metadata": {},
     "output_type": "execute_result"
    }
   ],
   "source": [
    "y = X[['SEVERITYCODE']]\n",
    "X.drop('SEVERITYCODE', axis=1, inplace=True)\n",
    "y.value_counts()\n"
   ]
  },
  {
   "cell_type": "code",
   "execution_count": 34,
   "metadata": {},
   "outputs": [
    {
     "data": {
      "text/plain": [
       "SEVERITYCODE\n",
       "0               109054\n",
       "1                52267\n",
       "dtype: int64"
      ]
     },
     "execution_count": 34,
     "metadata": {},
     "output_type": "execute_result"
    }
   ],
   "source": [
    "y = y - 1\n",
    "y.value_counts()"
   ]
  },
  {
   "cell_type": "code",
   "execution_count": 35,
   "metadata": {},
   "outputs": [
    {
     "data": {
      "text/html": [
       "<div>\n",
       "<style scoped>\n",
       "    .dataframe tbody tr th:only-of-type {\n",
       "        vertical-align: middle;\n",
       "    }\n",
       "\n",
       "    .dataframe tbody tr th {\n",
       "        vertical-align: top;\n",
       "    }\n",
       "\n",
       "    .dataframe thead th {\n",
       "        text-align: right;\n",
       "    }\n",
       "</style>\n",
       "<table border=\"1\" class=\"dataframe\">\n",
       "  <thead>\n",
       "    <tr style=\"text-align: right;\">\n",
       "      <th></th>\n",
       "      <th>PERSONCOUNT</th>\n",
       "      <th>PEDCOUNT</th>\n",
       "      <th>PEDCYLCOUNT</th>\n",
       "      <th>VEHCOUNT</th>\n",
       "      <th>INATTENTIONIND</th>\n",
       "      <th>SPEEDING</th>\n",
       "      <th>HITPARKEDCAR</th>\n",
       "      <th>ADDRTYPE_Alley</th>\n",
       "      <th>ADDRTYPE_Block</th>\n",
       "      <th>ADDRTYPE_Intersection</th>\n",
       "      <th>...</th>\n",
       "      <th>ROADCOND_Ice</th>\n",
       "      <th>ROADCOND_Oil</th>\n",
       "      <th>ROADCOND_Sand/Mud/Dirt</th>\n",
       "      <th>ROADCOND_Snow/Slush</th>\n",
       "      <th>ROADCOND_Standing Water</th>\n",
       "      <th>ROADCOND_Wet</th>\n",
       "      <th>LIGHTCOND_Dark</th>\n",
       "      <th>LIGHTCOND_Dawn</th>\n",
       "      <th>LIGHTCOND_Daylight</th>\n",
       "      <th>LIGHTCOND_Dusk</th>\n",
       "    </tr>\n",
       "  </thead>\n",
       "  <tbody>\n",
       "    <tr>\n",
       "      <th>PERSONCOUNT</th>\n",
       "      <td>1.000000</td>\n",
       "      <td>-0.033558</td>\n",
       "      <td>-0.046949</td>\n",
       "      <td>0.383268</td>\n",
       "      <td>0.067654</td>\n",
       "      <td>-0.009803</td>\n",
       "      <td>-0.047070</td>\n",
       "      <td>-0.023201</td>\n",
       "      <td>-0.046960</td>\n",
       "      <td>0.052238</td>\n",
       "      <td>...</td>\n",
       "      <td>-0.016168</td>\n",
       "      <td>-0.005021</td>\n",
       "      <td>-0.007759</td>\n",
       "      <td>-0.001393</td>\n",
       "      <td>-0.009329</td>\n",
       "      <td>0.002738</td>\n",
       "      <td>-0.011138</td>\n",
       "      <td>-0.024395</td>\n",
       "      <td>0.014975</td>\n",
       "      <td>0.005749</td>\n",
       "    </tr>\n",
       "    <tr>\n",
       "      <th>PEDCOUNT</th>\n",
       "      <td>-0.033558</td>\n",
       "      <td>1.000000</td>\n",
       "      <td>-0.020026</td>\n",
       "      <td>-0.328596</td>\n",
       "      <td>-0.010829</td>\n",
       "      <td>-0.034916</td>\n",
       "      <td>-0.030928</td>\n",
       "      <td>0.004448</td>\n",
       "      <td>-0.138794</td>\n",
       "      <td>0.140312</td>\n",
       "      <td>...</td>\n",
       "      <td>-0.008347</td>\n",
       "      <td>-0.003775</td>\n",
       "      <td>-0.000646</td>\n",
       "      <td>-0.003819</td>\n",
       "      <td>-0.002413</td>\n",
       "      <td>0.018616</td>\n",
       "      <td>0.024221</td>\n",
       "      <td>0.009828</td>\n",
       "      <td>-0.026455</td>\n",
       "      <td>0.002338</td>\n",
       "    </tr>\n",
       "    <tr>\n",
       "      <th>PEDCYLCOUNT</th>\n",
       "      <td>-0.046949</td>\n",
       "      <td>-0.020026</td>\n",
       "      <td>1.000000</td>\n",
       "      <td>-0.324878</td>\n",
       "      <td>-0.003061</td>\n",
       "      <td>-0.021767</td>\n",
       "      <td>-0.027103</td>\n",
       "      <td>-0.005899</td>\n",
       "      <td>-0.075961</td>\n",
       "      <td>0.078303</td>\n",
       "      <td>...</td>\n",
       "      <td>-0.009908</td>\n",
       "      <td>-0.003494</td>\n",
       "      <td>0.000118</td>\n",
       "      <td>-0.010731</td>\n",
       "      <td>-0.000271</td>\n",
       "      <td>-0.040888</td>\n",
       "      <td>-0.038629</td>\n",
       "      <td>0.009490</td>\n",
       "      <td>0.032557</td>\n",
       "      <td>0.004634</td>\n",
       "    </tr>\n",
       "    <tr>\n",
       "      <th>VEHCOUNT</th>\n",
       "      <td>0.383268</td>\n",
       "      <td>-0.328596</td>\n",
       "      <td>-0.324878</td>\n",
       "      <td>1.000000</td>\n",
       "      <td>0.053737</td>\n",
       "      <td>-0.046581</td>\n",
       "      <td>0.068134</td>\n",
       "      <td>-0.030530</td>\n",
       "      <td>0.093713</td>\n",
       "      <td>-0.089993</td>\n",
       "      <td>...</td>\n",
       "      <td>-0.018754</td>\n",
       "      <td>-0.009439</td>\n",
       "      <td>-0.014653</td>\n",
       "      <td>-0.004225</td>\n",
       "      <td>-0.016321</td>\n",
       "      <td>-0.013878</td>\n",
       "      <td>-0.039287</td>\n",
       "      <td>-0.016857</td>\n",
       "      <td>0.041986</td>\n",
       "      <td>-0.000759</td>\n",
       "    </tr>\n",
       "    <tr>\n",
       "      <th>INATTENTIONIND</th>\n",
       "      <td>0.067654</td>\n",
       "      <td>-0.010829</td>\n",
       "      <td>-0.003061</td>\n",
       "      <td>0.053737</td>\n",
       "      <td>1.000000</td>\n",
       "      <td>-0.055335</td>\n",
       "      <td>0.019879</td>\n",
       "      <td>-0.004280</td>\n",
       "      <td>0.102930</td>\n",
       "      <td>-0.101387</td>\n",
       "      <td>...</td>\n",
       "      <td>-0.022094</td>\n",
       "      <td>-0.007063</td>\n",
       "      <td>-0.007063</td>\n",
       "      <td>-0.017577</td>\n",
       "      <td>-0.001302</td>\n",
       "      <td>-0.029163</td>\n",
       "      <td>-0.055716</td>\n",
       "      <td>-0.001195</td>\n",
       "      <td>0.057228</td>\n",
       "      <td>-0.010310</td>\n",
       "    </tr>\n",
       "  </tbody>\n",
       "</table>\n",
       "<p>5 rows × 46 columns</p>\n",
       "</div>"
      ],
      "text/plain": [
       "                PERSONCOUNT  PEDCOUNT  PEDCYLCOUNT  VEHCOUNT  INATTENTIONIND  \\\n",
       "PERSONCOUNT        1.000000 -0.033558    -0.046949  0.383268        0.067654   \n",
       "PEDCOUNT          -0.033558  1.000000    -0.020026 -0.328596       -0.010829   \n",
       "PEDCYLCOUNT       -0.046949 -0.020026     1.000000 -0.324878       -0.003061   \n",
       "VEHCOUNT           0.383268 -0.328596    -0.324878  1.000000        0.053737   \n",
       "INATTENTIONIND     0.067654 -0.010829    -0.003061  0.053737        1.000000   \n",
       "\n",
       "                SPEEDING  HITPARKEDCAR  ADDRTYPE_Alley  ADDRTYPE_Block  \\\n",
       "PERSONCOUNT    -0.009803     -0.047070       -0.023201       -0.046960   \n",
       "PEDCOUNT       -0.034916     -0.030928        0.004448       -0.138794   \n",
       "PEDCYLCOUNT    -0.021767     -0.027103       -0.005899       -0.075961   \n",
       "VEHCOUNT       -0.046581      0.068134       -0.030530        0.093713   \n",
       "INATTENTIONIND -0.055335      0.019879       -0.004280        0.102930   \n",
       "\n",
       "                ADDRTYPE_Intersection  ...  ROADCOND_Ice  ROADCOND_Oil  \\\n",
       "PERSONCOUNT                  0.052238  ...     -0.016168     -0.005021   \n",
       "PEDCOUNT                     0.140312  ...     -0.008347     -0.003775   \n",
       "PEDCYLCOUNT                  0.078303  ...     -0.009908     -0.003494   \n",
       "VEHCOUNT                    -0.089993  ...     -0.018754     -0.009439   \n",
       "INATTENTIONIND              -0.101387  ...     -0.022094     -0.007063   \n",
       "\n",
       "                ROADCOND_Sand/Mud/Dirt  ROADCOND_Snow/Slush  \\\n",
       "PERSONCOUNT                  -0.007759            -0.001393   \n",
       "PEDCOUNT                     -0.000646            -0.003819   \n",
       "PEDCYLCOUNT                   0.000118            -0.010731   \n",
       "VEHCOUNT                     -0.014653            -0.004225   \n",
       "INATTENTIONIND               -0.007063            -0.017577   \n",
       "\n",
       "                ROADCOND_Standing Water  ROADCOND_Wet  LIGHTCOND_Dark  \\\n",
       "PERSONCOUNT                   -0.009329      0.002738       -0.011138   \n",
       "PEDCOUNT                      -0.002413      0.018616        0.024221   \n",
       "PEDCYLCOUNT                   -0.000271     -0.040888       -0.038629   \n",
       "VEHCOUNT                      -0.016321     -0.013878       -0.039287   \n",
       "INATTENTIONIND                -0.001302     -0.029163       -0.055716   \n",
       "\n",
       "                LIGHTCOND_Dawn  LIGHTCOND_Daylight  LIGHTCOND_Dusk  \n",
       "PERSONCOUNT          -0.024395            0.014975        0.005749  \n",
       "PEDCOUNT              0.009828           -0.026455        0.002338  \n",
       "PEDCYLCOUNT           0.009490            0.032557        0.004634  \n",
       "VEHCOUNT             -0.016857            0.041986       -0.000759  \n",
       "INATTENTIONIND       -0.001195            0.057228       -0.010310  \n",
       "\n",
       "[5 rows x 46 columns]"
      ]
     },
     "execution_count": 35,
     "metadata": {},
     "output_type": "execute_result"
    }
   ],
   "source": [
    "c = X.corr()\n",
    "c.head()"
   ]
  },
  {
   "cell_type": "code",
   "execution_count": 36,
   "metadata": {},
   "outputs": [
    {
     "data": {
      "text/plain": [
       "PEDCYLCOUNT                                          COLLISIONTYPE_Cycles                                   0.987620\n",
       "ADDRTYPE_Block                                       ADDRTYPE_Intersection                                  0.983682\n",
       "JUNCTIONTYPE_At Intersection (intersection related)  ADDRTYPE_Intersection                                  0.976191\n",
       "ROADCOND_Wet                                         ROADCOND_Dry                                           0.967011\n",
       "ADDRTYPE_Block                                       JUNCTIONTYPE_At Intersection (intersection related)    0.960604\n",
       "COLLISIONTYPE_Pedestrian                             PEDCOUNT                                               0.947454\n",
       "dtype: float64"
      ]
     },
     "execution_count": 36,
     "metadata": {},
     "output_type": "execute_result"
    }
   ],
   "source": [
    "c = c.abs().unstack().sort_values(ascending=False).drop_duplicates()\n",
    "c = c.loc[(c > 0.9) & (c != 1.0)]\n",
    "c"
   ]
  },
  {
   "cell_type": "code",
   "execution_count": 37,
   "metadata": {},
   "outputs": [
    {
     "name": "stdout",
     "output_type": "stream",
     "text": [
      "{'COLLISIONTYPE_Pedestrian', 'PEDCYLCOUNT', 'ROADCOND_Wet', 'ADDRTYPE_Block', 'JUNCTIONTYPE_At Intersection (intersection related)'}\n"
     ]
    }
   ],
   "source": [
    "to_drop = {item[0] for item in c.index}\n",
    "print(to_drop)\n",
    "for field in to_drop:\n",
    "    X.drop(field, axis=1, inplace=True)\n"
   ]
  },
  {
   "cell_type": "code",
   "execution_count": 38,
   "metadata": {},
   "outputs": [
    {
     "name": "stdout",
     "output_type": "stream",
     "text": [
      "(161321, 41)\n",
      "(161321,)\n"
     ]
    }
   ],
   "source": [
    "print(X.shape)\n",
    "y = y.values.ravel()\n",
    "print(y.shape)"
   ]
  },
  {
   "cell_type": "code",
   "execution_count": 39,
   "metadata": {},
   "outputs": [],
   "source": [
    "from sklearn import preprocessing\n",
    "X = preprocessing.StandardScaler().fit(X).transform(X.astype(float))"
   ]
  },
  {
   "cell_type": "code",
   "execution_count": 65,
   "metadata": {},
   "outputs": [
    {
     "name": "stdout",
     "output_type": "stream",
     "text": [
      "number of test samples : 3227\n",
      "number of training samples: 12905\n"
     ]
    }
   ],
   "source": [
    "from sklearn.model_selection import train_test_split\n",
    "\n",
    "X_train, X_test, y_train, y_test = train_test_split(X, y, test_size=0.9, random_state=1)\n",
    "\n",
    "X_train, X_test, y_train, y_test = train_test_split(X_train, y_train, test_size=0.2, random_state=0)\n",
    "\n",
    "print(\"number of test samples :\", X_test.shape[0])\n",
    "print(\"number of training samples:\",X_train.shape[0])"
   ]
  },
  {
   "cell_type": "code",
   "execution_count": 41,
   "metadata": {},
   "outputs": [],
   "source": [
    "results = {}\n",
    "class Result:\n",
    "    def __init__(self, confusion, accuracy, f1, logloss=None):\n",
    "        self.confusion = confusion\n",
    "        self.accuracy = accuracy\n",
    "        self.f1 = f1\n",
    "        self.logloss = logloss"
   ]
  },
  {
   "cell_type": "code",
   "execution_count": 42,
   "metadata": {},
   "outputs": [
    {
     "name": "stdout",
     "output_type": "stream",
     "text": [
      "DecisionTrees's Accuracy (depth=1): 0.6629491945477075\n",
      "DecisionTrees's Accuracy (depth=2): 0.6957868649318464\n",
      "DecisionTrees's Accuracy (depth=3): 0.7280049566294919\n",
      "DecisionTrees's Accuracy (depth=4): 0.7280049566294919\n",
      "DecisionTrees's Accuracy (depth=5): 0.7273853779429987\n",
      "DecisionTrees's Accuracy (depth=6): 0.7317224287484511\n",
      "DecisionTrees's Accuracy (depth=7): 0.7242874845105328\n",
      "DecisionTrees's Accuracy (depth=8): 0.7267657992565055\n",
      "DecisionTrees's Accuracy (depth=9): 0.7218091697645601\n",
      "DecisionTrees's Accuracy (depth=10): 0.7236679058240396\n",
      "DecisionTrees's Accuracy (depth=11): 0.7156133828996283\n",
      "DecisionTrees's Accuracy (depth=12): 0.7094175960346965\n",
      "DecisionTrees's Accuracy (depth=13): 0.7137546468401487\n",
      "DecisionTrees's Accuracy (depth=14): 0.7149938042131351\n",
      "DecisionTrees's Accuracy (depth=15): 0.7094175960346965\n",
      "DecisionTrees's Accuracy (depth=16): 0.7069392812887236\n",
      "DecisionTrees's Accuracy (depth=17): 0.701363073110285\n",
      "DecisionTrees's Accuracy (depth=18): 0.7032218091697645\n",
      "DecisionTrees's Accuracy (depth=19): 0.7026022304832714\n"
     ]
    }
   ],
   "source": [
    "from sklearn.tree import DecisionTreeClassifier\n",
    "from sklearn import metrics\n",
    "for depth in range(1, 20):\n",
    "    dtree = DecisionTreeClassifier(criterion=\"entropy\", max_depth = depth).fit(X_train, y_train)\n",
    "    print(f\"DecisionTrees's Accuracy (depth={depth}): {metrics.accuracy_score(y_test, dtree.predict(X_test))}\")"
   ]
  },
  {
   "cell_type": "code",
   "execution_count": 66,
   "metadata": {},
   "outputs": [
    {
     "name": "stdout",
     "output_type": "stream",
     "text": [
      "RandomForest's Accuracy (depth=1): 0.6755500464828014\n",
      "RandomForest's Accuracy (depth=2): 0.7238921599008367\n",
      "RandomForest's Accuracy (depth=3): 0.7356678029129222\n",
      "RandomForest's Accuracy (depth=4): 0.7356678029129222\n",
      "RandomForest's Accuracy (depth=5): 0.7362875735977689\n",
      "RandomForest's Accuracy (depth=6): 0.7365974589401921\n",
      "RandomForest's Accuracy (depth=7): 0.7390765416795786\n",
      "RandomForest's Accuracy (depth=8): 0.7400061977068485\n",
      "RandomForest's Accuracy (depth=9): 0.7424852804462349\n",
      "RandomForest's Accuracy (depth=10): 0.7387666563371552\n",
      "RandomForest's Accuracy (depth=11): 0.7403160830492718\n",
      "RandomForest's Accuracy (depth=12): 0.7378370003098853\n",
      "RandomForest's Accuracy (depth=13): 0.7362875735977689\n",
      "RandomForest's Accuracy (depth=14): 0.7316392934614193\n",
      "RandomForest's Accuracy (depth=15): 0.7313294081189959\n",
      "RandomForest's Accuracy (depth=16): 0.7279206693523397\n",
      "RandomForest's Accuracy (depth=17): 0.7282305546947629\n",
      "RandomForest's Accuracy (depth=18): 0.7217229625038736\n",
      "RandomForest's Accuracy (depth=19): 0.7229625038735668\n"
     ]
    }
   ],
   "source": [
    "from sklearn.tree import DecisionTreeClassifier\n",
    "from sklearn import metrics\n",
    "for depth in range(1, 20):\n",
    "    rfc = RandomForestClassifier(max_depth=depth, random_state=0).fit(X_train, y_train)\n",
    "    print(f\"RandomForest's Accuracy (depth={depth}): {metrics.accuracy_score(y_test, rfc.predict(X_test))}\")"
   ]
  },
  {
   "cell_type": "code",
   "execution_count": 44,
   "metadata": {},
   "outputs": [
    {
     "name": "stdout",
     "output_type": "stream",
     "text": [
      "K-Means's Accuracy (n=1): 0.6493184634448576\n",
      "K-Means's Accuracy (n=2): 0.6995043370508055\n",
      "K-Means's Accuracy (n=3): 0.6951672862453532\n",
      "K-Means's Accuracy (n=4): 0.7069392812887236\n",
      "K-Means's Accuracy (n=5): 0.69454770755886\n",
      "K-Means's Accuracy (n=6): 0.7162329615861215\n",
      "K-Means's Accuracy (n=7): 0.7106567534076828\n",
      "K-Means's Accuracy (n=8): 0.7174721189591078\n",
      "K-Means's Accuracy (n=9): 0.7162329615861215\n",
      "K-Means's Accuracy (n=10): 0.7224287484510533\n",
      "K-Means's Accuracy (n=11): 0.7255266418835192\n",
      "K-Means's Accuracy (n=12): 0.7292441140024783\n",
      "K-Means's Accuracy (n=13): 0.7280049566294919\n",
      "K-Means's Accuracy (n=14): 0.7267657992565055\n",
      "K-Means's Accuracy (n=15): 0.7267657992565055\n",
      "K-Means's Accuracy (n=16): 0.7342007434944238\n",
      "K-Means's Accuracy (n=17): 0.7261462205700124\n",
      "K-Means's Accuracy (n=18): 0.7354399008674102\n",
      "K-Means's Accuracy (n=19): 0.7342007434944238\n",
      "K-Means's Accuracy (n=20): 0.7354399008674102\n",
      "K-Means's Accuracy (n=21): 0.7360594795539034\n",
      "K-Means's Accuracy (n=22): 0.7354399008674102\n",
      "K-Means's Accuracy (n=23): 0.724907063197026\n",
      "K-Means's Accuracy (n=24): 0.7335811648079306\n",
      "K-Means's Accuracy (n=25): 0.7304832713754646\n",
      "K-Means's Accuracy (n=26): 0.7329615861214375\n",
      "K-Means's Accuracy (n=27): 0.7304832713754646\n",
      "K-Means's Accuracy (n=28): 0.7329615861214375\n",
      "K-Means's Accuracy (n=29): 0.7292441140024783\n"
     ]
    }
   ],
   "source": [
    "from sklearn.neighbors import KNeighborsClassifier\n",
    "from sklearn import metrics\n",
    "for n in range(1, 30):\n",
    "    kmeans = KNeighborsClassifier(n_neighbors = n).fit(X_train, y_train)\n",
    "    print(f\"K-Means's Accuracy (n={n}): {metrics.accuracy_score(y_test, kmeans.predict(X_test))}\")"
   ]
  },
  {
   "cell_type": "code",
   "execution_count": 45,
   "metadata": {},
   "outputs": [
    {
     "name": "stdout",
     "output_type": "stream",
     "text": [
      "LogReg's F1 score (solver=newton-cg, C=1): 0.6978180900597674\n",
      "LogReg's F1 score (solver=newton-cg, C=0.5): 0.6978180900597674\n",
      "LogReg's F1 score (solver=newton-cg, C=0.1): 0.6978180900597674\n",
      "LogReg's F1 score (solver=newton-cg, C=0.05): 0.6978180900597674\n",
      "LogReg's F1 score (solver=newton-cg, C=0.01): 0.6978180900597674\n",
      "LogReg's F1 score (solver=lbfgs, C=1): 0.6978180900597674\n",
      "LogReg's F1 score (solver=lbfgs, C=0.5): 0.6978180900597674\n",
      "LogReg's F1 score (solver=lbfgs, C=0.1): 0.6978180900597674\n",
      "LogReg's F1 score (solver=lbfgs, C=0.05): 0.6978180900597674\n",
      "LogReg's F1 score (solver=lbfgs, C=0.01): 0.6978180900597674\n",
      "LogReg's F1 score (solver=liblinear, C=1): 0.6978180900597674\n",
      "LogReg's F1 score (solver=liblinear, C=0.5): 0.6978180900597674\n",
      "LogReg's F1 score (solver=liblinear, C=0.1): 0.6978180900597674\n",
      "LogReg's F1 score (solver=liblinear, C=0.05): 0.6978180900597674\n",
      "LogReg's F1 score (solver=liblinear, C=0.01): 0.6978180900597674\n"
     ]
    },
    {
     "name": "stderr",
     "output_type": "stream",
     "text": [
      "/Users/strakh/Development/merapar/jupiterlab/env/lib/python3.8/site-packages/sklearn/linear_model/_sag.py:329: ConvergenceWarning: The max_iter was reached which means the coef_ did not converge\n",
      "  warnings.warn(\"The max_iter was reached which means \"\n"
     ]
    },
    {
     "name": "stdout",
     "output_type": "stream",
     "text": [
      "LogReg's F1 score (solver=sag, C=1): 0.6978180900597674\n"
     ]
    },
    {
     "name": "stderr",
     "output_type": "stream",
     "text": [
      "/Users/strakh/Development/merapar/jupiterlab/env/lib/python3.8/site-packages/sklearn/linear_model/_sag.py:329: ConvergenceWarning: The max_iter was reached which means the coef_ did not converge\n",
      "  warnings.warn(\"The max_iter was reached which means \"\n"
     ]
    },
    {
     "name": "stdout",
     "output_type": "stream",
     "text": [
      "LogReg's F1 score (solver=sag, C=0.5): 0.6978180900597674\n"
     ]
    },
    {
     "name": "stderr",
     "output_type": "stream",
     "text": [
      "/Users/strakh/Development/merapar/jupiterlab/env/lib/python3.8/site-packages/sklearn/linear_model/_sag.py:329: ConvergenceWarning: The max_iter was reached which means the coef_ did not converge\n",
      "  warnings.warn(\"The max_iter was reached which means \"\n"
     ]
    },
    {
     "name": "stdout",
     "output_type": "stream",
     "text": [
      "LogReg's F1 score (solver=sag, C=0.1): 0.6978180900597674\n"
     ]
    },
    {
     "name": "stderr",
     "output_type": "stream",
     "text": [
      "/Users/strakh/Development/merapar/jupiterlab/env/lib/python3.8/site-packages/sklearn/linear_model/_sag.py:329: ConvergenceWarning: The max_iter was reached which means the coef_ did not converge\n",
      "  warnings.warn(\"The max_iter was reached which means \"\n"
     ]
    },
    {
     "name": "stdout",
     "output_type": "stream",
     "text": [
      "LogReg's F1 score (solver=sag, C=0.05): 0.6978180900597674\n",
      "LogReg's F1 score (solver=sag, C=0.01): 0.6978180900597674\n"
     ]
    },
    {
     "name": "stderr",
     "output_type": "stream",
     "text": [
      "/Users/strakh/Development/merapar/jupiterlab/env/lib/python3.8/site-packages/sklearn/linear_model/_sag.py:329: ConvergenceWarning: The max_iter was reached which means the coef_ did not converge\n",
      "  warnings.warn(\"The max_iter was reached which means \"\n"
     ]
    },
    {
     "name": "stdout",
     "output_type": "stream",
     "text": [
      "LogReg's F1 score (solver=saga, C=1): 0.6978180900597674\n"
     ]
    },
    {
     "name": "stderr",
     "output_type": "stream",
     "text": [
      "/Users/strakh/Development/merapar/jupiterlab/env/lib/python3.8/site-packages/sklearn/linear_model/_sag.py:329: ConvergenceWarning: The max_iter was reached which means the coef_ did not converge\n",
      "  warnings.warn(\"The max_iter was reached which means \"\n"
     ]
    },
    {
     "name": "stdout",
     "output_type": "stream",
     "text": [
      "LogReg's F1 score (solver=saga, C=0.5): 0.6978180900597674\n"
     ]
    },
    {
     "name": "stderr",
     "output_type": "stream",
     "text": [
      "/Users/strakh/Development/merapar/jupiterlab/env/lib/python3.8/site-packages/sklearn/linear_model/_sag.py:329: ConvergenceWarning: The max_iter was reached which means the coef_ did not converge\n",
      "  warnings.warn(\"The max_iter was reached which means \"\n"
     ]
    },
    {
     "name": "stdout",
     "output_type": "stream",
     "text": [
      "LogReg's F1 score (solver=saga, C=0.1): 0.6978180900597674\n"
     ]
    },
    {
     "name": "stderr",
     "output_type": "stream",
     "text": [
      "/Users/strakh/Development/merapar/jupiterlab/env/lib/python3.8/site-packages/sklearn/linear_model/_sag.py:329: ConvergenceWarning: The max_iter was reached which means the coef_ did not converge\n",
      "  warnings.warn(\"The max_iter was reached which means \"\n"
     ]
    },
    {
     "name": "stdout",
     "output_type": "stream",
     "text": [
      "LogReg's F1 score (solver=saga, C=0.05): 0.6978180900597674\n",
      "LogReg's F1 score (solver=saga, C=0.01): 0.6978180900597674\n"
     ]
    }
   ],
   "source": [
    "from sklearn.linear_model import LogisticRegression\n",
    "from sklearn.metrics import f1_score\n",
    "solvers = (\"newton-cg\", \"lbfgs\", \"liblinear\", \"sag\", \"saga\")\n",
    "cs = (1, 0.5, 0.1, 0.05, 0.01)\n",
    "for i, solver in enumerate(solvers):\n",
    "    for j, c in enumerate(cs):\n",
    "        lr = LogisticRegression(C=c, solver=solver).fit(X_train, y_train)\n",
    "#         print(f\"LogReg's Accuracy score (solver={solver}, C={c}): {metrics.accuracy_score(y_test, kmeans.predict(X_test))}\")\n",
    "        print(f\"LogReg's F1 score (solver={solver}, C={c}): {metrics.f1_score(y_test, kmeans.predict(X_test), average='weighted')}\")"
   ]
  },
  {
   "cell_type": "code",
   "execution_count": 46,
   "metadata": {},
   "outputs": [
    {
     "name": "stdout",
     "output_type": "stream",
     "text": [
      "SVM's F1 score (kernel=linear): 0.6638353549033312\n",
      "SVM's F1 score (kernel=poly): 0.6664669730806586\n",
      "SVM's F1 score (kernel=rbf): 0.6757734462987592\n",
      "SVM's F1 score (kernel=sigmoid): 0.6703043368731163\n"
     ]
    }
   ],
   "source": [
    "from sklearn import svm\n",
    "from sklearn import metrics\n",
    "kernels = (\"linear\", \"poly\", \"rbf\", \"sigmoid\")\n",
    "for i, kernel in enumerate(kernels):\n",
    "    svc = svm.SVC(kernel=kernel, gamma=\"auto\").fit(X_train, y_train)\n",
    "    print(f\"SVM's F1 score (kernel={kernel}): {metrics.f1_score(y_test, svc.predict(X_test), average='weighted')}\")\n"
   ]
  },
  {
   "cell_type": "code",
   "execution_count": 67,
   "metadata": {},
   "outputs": [
    {
     "name": "stdout",
     "output_type": "stream",
     "text": [
      "number of test samples : 32265\n",
      "number of training samples: 129056\n"
     ]
    }
   ],
   "source": [
    "from sklearn.model_selection import train_test_split\n",
    "\n",
    "X_train, X_test, y_train, y_test = train_test_split(X, y, test_size=0.2, random_state=1)\n",
    "\n",
    "print(\"number of test samples :\", X_test.shape[0])\n",
    "print(\"number of training samples:\",X_train.shape[0])"
   ]
  },
  {
   "cell_type": "code",
   "execution_count": 48,
   "metadata": {},
   "outputs": [
    {
     "name": "stdout",
     "output_type": "stream",
     "text": [
      "              precision    recall  f1-score   support\n",
      "\n",
      "           0       0.74      0.95      0.83     21854\n",
      "           1       0.74      0.28      0.41     10411\n",
      "\n",
      "    accuracy                           0.74     32265\n",
      "   macro avg       0.74      0.62      0.62     32265\n",
      "weighted avg       0.74      0.74      0.69     32265\n",
      "\n",
      "              precision    recall  f1-score   support\n",
      "\n",
      "           0       0.74      0.95      0.83     87200\n",
      "           1       0.74      0.29      0.42     41856\n",
      "\n",
      "    accuracy                           0.74    129056\n",
      "   macro avg       0.74      0.62      0.62    129056\n",
      "weighted avg       0.74      0.74      0.70    129056\n",
      "\n"
     ]
    }
   ],
   "source": [
    "depth=6\n",
    "dtree = DecisionTreeClassifier(criterion=\"entropy\", max_depth = depth).fit(X_train, y_train)\n",
    "y_predict = dtree.predict(X_test)\n",
    "results[dtree] = Result(\n",
    "    metrics.confusion_matrix(y_test, y_predict),\n",
    "    metrics.accuracy_score(y_test, y_predict),\n",
    "    metrics.f1_score(y_test, y_predict, average='weighted')\n",
    "    )\n",
    "print(metrics.classification_report(y_test, y_predict))\n",
    "print(metrics.classification_report(y_train, dtree.predict(X_train)))"
   ]
  },
  {
   "cell_type": "code",
   "execution_count": 49,
   "metadata": {},
   "outputs": [
    {
     "name": "stdout",
     "output_type": "stream",
     "text": [
      "              precision    recall  f1-score   support\n",
      "\n",
      "           0       0.75      0.90      0.82     21854\n",
      "           1       0.64      0.36      0.46     10411\n",
      "\n",
      "    accuracy                           0.73     32265\n",
      "   macro avg       0.70      0.63      0.64     32265\n",
      "weighted avg       0.71      0.73      0.70     32265\n",
      "\n",
      "              precision    recall  f1-score   support\n",
      "\n",
      "           0       0.75      0.91      0.82     87200\n",
      "           1       0.67      0.38      0.48     41856\n",
      "\n",
      "    accuracy                           0.74    129056\n",
      "   macro avg       0.71      0.64      0.65    129056\n",
      "weighted avg       0.72      0.74      0.71    129056\n",
      "\n"
     ]
    }
   ],
   "source": [
    "n = 21\n",
    "kmeans = KNeighborsClassifier(n_neighbors = n).fit(X_train, y_train)\n",
    "y_predict = kmeans.predict(X_test)\n",
    "results[kmeans] = Result(\n",
    "    metrics.confusion_matrix(y_test, y_predict),\n",
    "    metrics.accuracy_score(y_test, y_predict),\n",
    "    metrics.f1_score(y_test, y_predict, average='weighted')\n",
    "    )\n",
    "print(metrics.classification_report(y_test, y_predict))\n",
    "print(metrics.classification_report(y_train, kmeans.predict(X_train)))"
   ]
  },
  {
   "cell_type": "code",
   "execution_count": 50,
   "metadata": {},
   "outputs": [
    {
     "name": "stdout",
     "output_type": "stream",
     "text": [
      "              precision    recall  f1-score   support\n",
      "\n",
      "           0       0.74      0.96      0.83     21854\n",
      "           1       0.76      0.28      0.41     10411\n",
      "\n",
      "    accuracy                           0.74     32265\n",
      "   macro avg       0.75      0.62      0.62     32265\n",
      "weighted avg       0.74      0.74      0.70     32265\n",
      "\n",
      "              precision    recall  f1-score   support\n",
      "\n",
      "           0       0.74      0.95      0.83     87200\n",
      "           1       0.75      0.29      0.41     41856\n",
      "\n",
      "    accuracy                           0.74    129056\n",
      "   macro avg       0.74      0.62      0.62    129056\n",
      "weighted avg       0.74      0.74      0.70    129056\n",
      "\n"
     ]
    }
   ],
   "source": [
    "from sklearn.linear_model import LogisticRegression\n",
    "from sklearn import metrics\n",
    "lr = LogisticRegression().fit(X_train, y_train)\n",
    "y_predict = lr.predict(X_test)\n",
    "results[lr] = Result(\n",
    "    metrics.confusion_matrix(y_test, y_predict),\n",
    "    metrics.accuracy_score(y_test, y_predict),\n",
    "    metrics.f1_score(y_test, y_predict, average='weighted'),\n",
    "    metrics.log_loss(y_test, lr.predict_proba(X_test))\n",
    "    )\n",
    "print(metrics.classification_report(y_test, y_predict))\n",
    "print(metrics.classification_report(y_train, lr.predict(X_train)))"
   ]
  },
  {
   "cell_type": "code",
   "execution_count": 51,
   "metadata": {},
   "outputs": [
    {
     "name": "stdout",
     "output_type": "stream",
     "text": [
      "              precision    recall  f1-score   support\n",
      "\n",
      "           0       0.74      0.96      0.83     21854\n",
      "           1       0.75      0.28      0.41     10411\n",
      "\n",
      "    accuracy                           0.74     32265\n",
      "   macro avg       0.75      0.62      0.62     32265\n",
      "weighted avg       0.74      0.74      0.70     32265\n",
      "\n",
      "              precision    recall  f1-score   support\n",
      "\n",
      "           0       0.74      0.96      0.83     87200\n",
      "           1       0.76      0.29      0.42     41856\n",
      "\n",
      "    accuracy                           0.74    129056\n",
      "   macro avg       0.75      0.62      0.63    129056\n",
      "weighted avg       0.75      0.74      0.70    129056\n",
      "\n"
     ]
    }
   ],
   "source": [
    "kernel=\"rbf\"\n",
    "svc = svm.SVC(kernel=kernel, gamma=\"auto\").fit(X_train, y_train)\n",
    "y_predict = svc.predict(X_test)\n",
    "results[svc] = Result(\n",
    "    metrics.confusion_matrix(y_test, y_predict),\n",
    "    metrics.accuracy_score(y_test, y_predict),\n",
    "    metrics.f1_score(y_test, y_predict, average='weighted')\n",
    "    )\n",
    "print(metrics.classification_report(y_test, y_predict))\n",
    "print(metrics.classification_report(y_train, svc.predict(X_train)))"
   ]
  },
  {
   "cell_type": "code",
   "execution_count": 52,
   "metadata": {},
   "outputs": [
    {
     "name": "stdout",
     "output_type": "stream",
     "text": [
      "              precision    recall  f1-score   support\n",
      "\n",
      "           0       0.74      0.95      0.83     21854\n",
      "           1       0.74      0.30      0.43     10411\n",
      "\n",
      "    accuracy                           0.74     32265\n",
      "   macro avg       0.74      0.63      0.63     32265\n",
      "weighted avg       0.74      0.74      0.70     32265\n",
      "\n",
      "              precision    recall  f1-score   support\n",
      "\n",
      "           0       0.74      0.95      0.83     87200\n",
      "           1       0.74      0.31      0.43     41856\n",
      "\n",
      "    accuracy                           0.74    129056\n",
      "   macro avg       0.74      0.63      0.63    129056\n",
      "weighted avg       0.74      0.74      0.70    129056\n",
      "\n"
     ]
    }
   ],
   "source": [
    "from sklearn.ensemble import GradientBoostingClassifier\n",
    "from sklearn import metrics\n",
    "gbc = GradientBoostingClassifier(random_state=0).fit(X_train, y_train)\n",
    "y_predict = gbc.predict(X_test)\n",
    "results[gbc] = Result(\n",
    "    metrics.confusion_matrix(y_test, y_predict),\n",
    "    metrics.accuracy_score(y_test, y_predict),\n",
    "    metrics.f1_score(y_test, y_predict, average='weighted')\n",
    "    )\n",
    "print(metrics.classification_report(y_test, y_predict))\n",
    "print(metrics.classification_report(y_train, gbc.predict(X_train)))"
   ]
  },
  {
   "cell_type": "code",
   "execution_count": 72,
   "metadata": {},
   "outputs": [
    {
     "name": "stdout",
     "output_type": "stream",
     "text": [
      "              precision    recall  f1-score   support\n",
      "\n",
      "           0       0.73      0.98      0.83     21854\n",
      "           1       0.82      0.24      0.37     10411\n",
      "\n",
      "    accuracy                           0.74     32265\n",
      "   macro avg       0.78      0.61      0.60     32265\n",
      "weighted avg       0.76      0.74      0.68     32265\n",
      "\n",
      "              precision    recall  f1-score   support\n",
      "\n",
      "           0       0.73      0.98      0.83     87200\n",
      "           1       0.83      0.24      0.37     41856\n",
      "\n",
      "    accuracy                           0.74    129056\n",
      "   macro avg       0.78      0.61      0.60    129056\n",
      "weighted avg       0.76      0.74      0.68    129056\n",
      "\n"
     ]
    }
   ],
   "source": [
    "from sklearn.ensemble import RandomForestClassifier\n",
    "from sklearn import metrics\n",
    "\n",
    "depth = 9\n",
    "rfc = RandomForestClassifier(max_depth=depth, random_state=0).fit(X_train, y_train)\n",
    "y_predict = rfc.predict(X_test)\n",
    "results[rfc] = Result(\n",
    "    metrics.confusion_matrix(y_test, y_predict),\n",
    "    metrics.accuracy_score(y_test, y_predict),\n",
    "    metrics.f1_score(y_test, y_predict, average='weighted')\n",
    "    )\n",
    "print(metrics.classification_report(y_test, y_predict))\n",
    "print(metrics.classification_report(y_train, rfc.predict(X_train)))"
   ]
  },
  {
   "cell_type": "code",
   "execution_count": 54,
   "metadata": {},
   "outputs": [],
   "source": [
    "# from sklearn.naive_bayes import ComplementNB\n",
    "# from sklearn import metrics\n",
    "# nb = ComplementNB().fit(X_train, y_train)\n",
    "# y_predict = nb.predict(X_test)\n",
    "# print(metrics.confusion_matrix(y_test, y_predict))\n",
    "# print(f\"RandomForest's Accuracy score: {metrics.accuracy_score(y_test, y_predict)}\")\n",
    "# print(f\"RandomForest's F1 score: {metrics.f1_score(y_test, y_predict, average='weighted')}\")\n",
    "# print(metrics.classification_report(y_test, y_predict))\n",
    "# print(metrics.classification_report(y_train, nb.predict(X_train)))"
   ]
  },
  {
   "cell_type": "code",
   "execution_count": 73,
   "metadata": {},
   "outputs": [
    {
     "data": {
      "text/html": [
       "<div>\n",
       "<style scoped>\n",
       "    .dataframe tbody tr th:only-of-type {\n",
       "        vertical-align: middle;\n",
       "    }\n",
       "\n",
       "    .dataframe tbody tr th {\n",
       "        vertical-align: top;\n",
       "    }\n",
       "\n",
       "    .dataframe thead th {\n",
       "        text-align: right;\n",
       "    }\n",
       "</style>\n",
       "<table border=\"1\" class=\"dataframe\">\n",
       "  <thead>\n",
       "    <tr style=\"text-align: right;\">\n",
       "      <th></th>\n",
       "      <th>confusion</th>\n",
       "      <th>accuracy</th>\n",
       "      <th>f1</th>\n",
       "      <th>logloss</th>\n",
       "    </tr>\n",
       "  </thead>\n",
       "  <tbody>\n",
       "    <tr>\n",
       "      <th>DecisionTreeClassifier</th>\n",
       "      <td>[[20791, 1063], [7450, 2961]]</td>\n",
       "      <td>0.736154</td>\n",
       "      <td>0.694602</td>\n",
       "      <td>None</td>\n",
       "    </tr>\n",
       "    <tr>\n",
       "      <th>KNeighborsClassifier</th>\n",
       "      <td>[[19762, 2092], [6638, 3773]]</td>\n",
       "      <td>0.729428</td>\n",
       "      <td>0.704387</td>\n",
       "      <td>None</td>\n",
       "    </tr>\n",
       "    <tr>\n",
       "      <th>LogisticRegression</th>\n",
       "      <td>[[20922, 932], [7454, 2957]]</td>\n",
       "      <td>0.74009</td>\n",
       "      <td>0.697693</td>\n",
       "      <td>0.510729</td>\n",
       "    </tr>\n",
       "    <tr>\n",
       "      <th>SVC</th>\n",
       "      <td>[[20903, 951], [7484, 2927]]</td>\n",
       "      <td>0.738571</td>\n",
       "      <td>0.695805</td>\n",
       "      <td>None</td>\n",
       "    </tr>\n",
       "    <tr>\n",
       "      <th>GradientBoostingClassifier</th>\n",
       "      <td>[[20733, 1121], [7260, 3151]]</td>\n",
       "      <td>0.740245</td>\n",
       "      <td>0.701938</td>\n",
       "      <td>None</td>\n",
       "    </tr>\n",
       "    <tr>\n",
       "      <th>RandomForestClassifier</th>\n",
       "      <td>[[21318, 536], [7935, 2476]]</td>\n",
       "      <td>0.737455</td>\n",
       "      <td>0.684101</td>\n",
       "      <td>None</td>\n",
       "    </tr>\n",
       "  </tbody>\n",
       "</table>\n",
       "</div>"
      ],
      "text/plain": [
       "                                                confusion  accuracy        f1  \\\n",
       "DecisionTreeClassifier      [[20791, 1063], [7450, 2961]]  0.736154  0.694602   \n",
       "KNeighborsClassifier        [[19762, 2092], [6638, 3773]]  0.729428  0.704387   \n",
       "LogisticRegression           [[20922, 932], [7454, 2957]]   0.74009  0.697693   \n",
       "SVC                          [[20903, 951], [7484, 2927]]  0.738571  0.695805   \n",
       "GradientBoostingClassifier  [[20733, 1121], [7260, 3151]]  0.740245  0.701938   \n",
       "RandomForestClassifier       [[21318, 536], [7935, 2476]]  0.737455  0.684101   \n",
       "\n",
       "                             logloss  \n",
       "DecisionTreeClassifier          None  \n",
       "KNeighborsClassifier            None  \n",
       "LogisticRegression          0.510729  \n",
       "SVC                             None  \n",
       "GradientBoostingClassifier      None  \n",
       "RandomForestClassifier          None  "
      ]
     },
     "execution_count": 73,
     "metadata": {},
     "output_type": "execute_result"
    }
   ],
   "source": [
    "res = {}\n",
    "for model, result in results.items():\n",
    "    name = model.__class__.__name__\n",
    "    res[name] = result.__dict__\n",
    "pd.DataFrame.from_dict(res).transpose()\n"
   ]
  },
  {
   "cell_type": "code",
   "execution_count": 74,
   "metadata": {},
   "outputs": [
    {
     "name": "stdout",
     "output_type": "stream",
     "text": [
      "DecisionTreeClassifier\n",
      "[[20791  1063]\n",
      " [ 7450  2961]]\n",
      "KNeighborsClassifier\n",
      "[[19762  2092]\n",
      " [ 6638  3773]]\n",
      "LogisticRegression\n",
      "[[20922   932]\n",
      " [ 7454  2957]]\n",
      "SVC\n",
      "[[20903   951]\n",
      " [ 7484  2927]]\n",
      "GradientBoostingClassifier\n",
      "[[20733  1121]\n",
      " [ 7260  3151]]\n",
      "RandomForestClassifier\n",
      "[[21318   536]\n",
      " [ 7935  2476]]\n"
     ]
    }
   ],
   "source": [
    "for model, result in res.items():\n",
    "    print(model)\n",
    "    print(result[\"confusion\"])"
   ]
  },
  {
   "cell_type": "code",
   "execution_count": null,
   "metadata": {},
   "outputs": [],
   "source": []
  }
 ],
 "metadata": {
  "kernelspec": {
   "display_name": "Python 3",
   "language": "python",
   "name": "python3"
  },
  "language_info": {
   "codemirror_mode": {
    "name": "ipython",
    "version": 3
   },
   "file_extension": ".py",
   "mimetype": "text/x-python",
   "name": "python",
   "nbconvert_exporter": "python",
   "pygments_lexer": "ipython3",
   "version": "3.8.5"
  }
 },
 "nbformat": 4,
 "nbformat_minor": 4
}
